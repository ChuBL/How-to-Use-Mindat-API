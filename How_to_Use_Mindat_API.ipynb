{
  "nbformat": 4,
  "nbformat_minor": 0,
  "metadata": {
    "colab": {
      "provenance": []
    },
    "kernelspec": {
      "name": "python3",
      "display_name": "Python 3"
    },
    "language_info": {
      "name": "python"
    }
  },
  "cells": [
    {
      "cell_type": "markdown",
      "source": [
        "<a target=\"_blank\" href=\"https://colab.research.google.com/github/ChuBL/How-to-Use-Mindat-API/blob/main/How_to_Use_Mindat_API.ipynb\">\n",
        "  <img src=\"https://colab.research.google.com/assets/colab-badge.svg\" alt=\"Open In Colab\"/>\n",
        "</a>"
      ],
      "metadata": {
        "id": "qrMhTOpOyjAP"
      }
    },
    {
      "cell_type": "markdown",
      "source": [
        "# How to Use OpenMindat Data API to Query and Download Datasets\n"
      ],
      "metadata": {
        "id": "u65PipxXuNbO"
      }
    },
    {
      "cell_type": "markdown",
      "source": [
        "## 0. Access Your Mindat API Token"
      ],
      "metadata": {
        "id": "OOT8B2v7odok"
      }
    },
    {
      "cell_type": "markdown",
      "source": [
        "[How to Get My Mindat API Key or Token?](https://www.mindat.org/a/how_to_get_my_mindat_api_key)"
      ],
      "metadata": {
        "id": "59gsuIxcoiIU"
      }
    },
    {
      "cell_type": "markdown",
      "source": [
        "## 1. Dependencies (Please run this section first)"
      ],
      "metadata": {
        "id": "YmvOE3ClX207"
      }
    },
    {
      "cell_type": "code",
      "execution_count": 15,
      "metadata": {
        "colab": {
          "base_uri": "https://localhost:8080/"
        },
        "id": "HcpFlVR9Xvzj",
        "outputId": "b1ea1c8c-5f56-4364-b838-2edf5374b4e3"
      },
      "outputs": [
        {
          "output_type": "stream",
          "name": "stdout",
          "text": [
            "Drive already mounted at /content/drive; to attempt to forcibly remount, call drive.mount(\"/content/drive\", force_remount=True).\n"
          ]
        }
      ],
      "source": [
        "from google.colab import drive\n",
        "drive.mount('/content/drive')"
      ]
    },
    {
      "cell_type": "markdown",
      "source": [
        "This step will connect your Google Drive with this notebook, and you can check the 📁 file management system in the left column. "
      ],
      "metadata": {
        "id": "UublqFDuYxeU"
      }
    },
    {
      "cell_type": "code",
      "source": [
        "from pathlib import Path\n",
        "import os\n",
        "import sys\n",
        "import json\n",
        "import re\n",
        "import pprint\n",
        "import requests"
      ],
      "metadata": {
        "id": "gpxJUYWHaPCw"
      },
      "execution_count": 24,
      "outputs": []
    },
    {
      "cell_type": "code",
      "source": [
        "# You can change this working path according to your preference\n",
        "# If the folder didn't show up in the left column, click the refresh button\n",
        "WORKING_DIR = \"/content/drive/MyDrive/MindatAPI_folder/\"\n",
        "Path(WORKING_DIR).mkdir(parents=True, exist_ok=True)"
      ],
      "metadata": {
        "id": "zyImDhp2aYNq"
      },
      "execution_count": 17,
      "outputs": []
    },
    {
      "cell_type": "markdown",
      "source": [
        "You should **avoid** placing your API token explicitly in your code if you plan to share it. \n",
        "\n",
        "For example, you can drag a text file of your token to the working directory to upload it, then access it using the following code. Or you can input it manually."
      ],
      "metadata": {
        "id": "RhAUoA9pcIQv"
      }
    },
    {
      "cell_type": "code",
      "source": [
        "YOUR_API_KEY = \"\""
      ],
      "metadata": {
        "id": "QSoVg4g-eQw0"
      },
      "execution_count": 18,
      "outputs": []
    },
    {
      "cell_type": "code",
      "source": [
        "%%script false --no-raise-error\n",
        "# comment out the first line to activate this code block\n",
        "api_key_file_dir = \"/content/drive/MyDrive/MindatAPI_folder/api_key.txt\"\n",
        "try:\n",
        "    with open(api_key_file_dir, 'r') as f:\n",
        "        YOUR_API_KEY = f.read()\n",
        "except FileNotFoundError:\n",
        "    print(\"API key file not found. Please create a text file containing your api key and place it in the correct directory.\")"
      ],
      "metadata": {
        "id": "nW9tqw7ScEs9"
      },
      "execution_count": 38,
      "outputs": []
    },
    {
      "cell_type": "code",
      "source": [
        "%%script false --no-raise-error\n",
        "# comment out the first line to activate this code block\n",
        "YOUR_API_KEY = input()"
      ],
      "metadata": {
        "id": "39HPkjIKaMBo"
      },
      "execution_count": 20,
      "outputs": []
    },
    {
      "cell_type": "code",
      "source": [
        "try:\n",
        "    assert 0 != len(YOUR_API_KEY)\n",
        "except AssertionError:\n",
        "    raise Exception(\"Please set a valid API token before the start!\")"
      ],
      "metadata": {
        "id": "tYg14BcheNlO"
      },
      "execution_count": 44,
      "outputs": []
    },
    {
      "cell_type": "markdown",
      "source": [
        "## 2. Use Cases\n"
      ],
      "metadata": {
        "id": "wdufgKY9gq6H"
      }
    },
    {
      "cell_type": "markdown",
      "source": [
        "### Get the Items with Filters"
      ],
      "metadata": {
        "id": "UEMu5YSJwdC2"
      }
    },
    {
      "cell_type": "code",
      "source": [
        "MINDAT_API_URL = \"https://api.mindat.org\"\n",
        "headers = {'Authorization': 'Token '+ YOUR_API_KEY}\n",
        "\n",
        "filter_file_name = \"mindat_items_filter.json\"\n",
        "filter_file_path = Path(WORKING_DIR, filter_file_name)\n",
        "filter_file_path"
      ],
      "metadata": {
        "colab": {
          "base_uri": "https://localhost:8080/"
        },
        "outputId": "7faf4a36-cc6b-4f64-b226-c3f4f7292fe4",
        "id": "RrIOSXhLwdC2"
      },
      "execution_count": null,
      "outputs": [
        {
          "output_type": "execute_result",
          "data": {
            "text/plain": [
              "PosixPath('/content/drive/MyDrive/MindatAPI_folder/mindat_items_filter.json')"
            ]
          },
          "metadata": {},
          "execution_count": 67
        }
      ]
    },
    {
      "cell_type": "code",
      "source": [
        "filter_dict = {'density__to': '3',\n",
        "          'crystal_system': 'Triclinic',\n",
        "          'color': 'red',\n",
        "          'ima': 1,          # show only minerals approved by ima\n",
        "          'format': 'json'}"
      ],
      "metadata": {
        "id": "XZPmDlh9wdC3"
      },
      "execution_count": null,
      "outputs": []
    },
    {
      "cell_type": "code",
      "source": [
        "with open(filter_file_path, 'w') as f:\n",
        "    params = filter_dict\n",
        "\n",
        "    response = requests.get(MINDAT_API_URL+\"/items/\",\n",
        "                    params=params,\n",
        "                    headers=headers)\n",
        "\n",
        "    json_file = response.json()\n",
        "    json.dump(json_file, f, indent=4)\n",
        "print(\"Successfully saved \" + str(len(json_all['results'])) + \" entries to \" + str(filter_file_path))"
      ],
      "metadata": {
        "colab": {
          "base_uri": "https://localhost:8080/"
        },
        "outputId": "6112a7f5-86c2-4a59-989b-254756a59cde",
        "id": "i1PboMoJwdC3"
      },
      "execution_count": null,
      "outputs": [
        {
          "output_type": "stream",
          "name": "stdout",
          "text": [
            "Successfully saved 100 entries to /content/drive/MyDrive/MindatAPI_folder/mindat_items_filter.json\n"
          ]
        }
      ]
    },
    {
      "cell_type": "markdown",
      "source": [
        "### Get All the Items\n"
      ],
      "metadata": {
        "id": "bzPZb-V_kCfe"
      }
    },
    {
      "cell_type": "code",
      "source": [
        "MINDAT_API_URL = \"https://api.mindat.org\"\n",
        "headers = {'Authorization': 'Token '+ YOUR_API_KEY}\n",
        "\n",
        "all_file_name = \"mindat_items_all.json\"\n",
        "all_file_path = Path(WORKING_DIR, all_file_name)\n",
        "all_file_path"
      ],
      "metadata": {
        "colab": {
          "base_uri": "https://localhost:8080/"
        },
        "id": "JRt7_VwxkbPf",
        "outputId": "3a012f3c-ef0b-4c9f-e392-78dca13238d3"
      },
      "execution_count": 54,
      "outputs": [
        {
          "output_type": "execute_result",
          "data": {
            "text/plain": [
              "PosixPath('/content/drive/MyDrive/MindatAPI_folder/mindat_items_all.json')"
            ]
          },
          "metadata": {},
          "execution_count": 54
        }
      ]
    },
    {
      "cell_type": "code",
      "source": [
        "with open(all_file_path, 'w') as f:\n",
        "    # put a large value for page range if you do intend to retrieve all the items (>54511)\n",
        "    PAGE_RANGE = 2\n",
        "    for page in range(1, PAGE_RANGE):\n",
        "        params = {\n",
        "            'format': 'json',\n",
        "            'page_size': '100',\n",
        "            'page': str(page),\n",
        "        }\n",
        "        response = requests.get(MINDAT_API_URL+\"/items/\",\n",
        "                                params=params,\n",
        "                                headers=headers)\n",
        "        json_file = response.json()\n",
        "        if 1 == page:\n",
        "            json_all = json_file\n",
        "        else:\n",
        "            try:\n",
        "                json_all['results'] += json_file['results']\n",
        "            except KeyError:\n",
        "                break\n",
        "    json.dump(json_all, f, indent=4)\n",
        "print(\"Successfully saved \" + str(len(json_all['results'])) + \" entries to \" + str(all_file_path))"
      ],
      "metadata": {
        "colab": {
          "base_uri": "https://localhost:8080/"
        },
        "id": "VzuHQxA4kx4H",
        "outputId": "84d99631-50e0-4cd2-a429-cee55b31a195"
      },
      "execution_count": 60,
      "outputs": [
        {
          "output_type": "stream",
          "name": "stdout",
          "text": [
            "Successfully saved 100 entries to /content/drive/MyDrive/MindatAPI_folder/mindat_items_all.json\n"
          ]
        }
      ]
    },
    {
      "cell_type": "markdown",
      "source": [
        "### Get the IMA-Approved Mineral Items"
      ],
      "metadata": {
        "id": "1lVThknWgudN"
      }
    },
    {
      "cell_type": "code",
      "source": [
        "MINDAT_API_URL = \"https://api.mindat.org\"\n",
        "headers = {'Authorization': 'Token '+ YOUR_API_KEY}\n",
        "\n",
        "ima_file_name = \"mindat_items_IMA.json\"\n",
        "ima_file_path = Path(WORKING_DIR, ima_file_name)\n",
        "ima_file_path"
      ],
      "metadata": {
        "colab": {
          "base_uri": "https://localhost:8080/"
        },
        "id": "IxW1ZHh9hGKP",
        "outputId": "f25883df-4520-4804-a7ec-ed5af7acb6e3"
      },
      "execution_count": 36,
      "outputs": [
        {
          "output_type": "execute_result",
          "data": {
            "text/plain": [
              "PosixPath('/content/drive/MyDrive/MindatAPI_folder/mindat_items_IMA.json')"
            ]
          },
          "metadata": {},
          "execution_count": 36
        }
      ]
    },
    {
      "cell_type": "code",
      "source": [
        "with open(ima_file_path, 'w') as f:\n",
        "    PAGE_RANGE = 9999 # put a large value if you intend to retrieve all the entries\n",
        "    for page in range(1, PAGE_RANGE):\n",
        "        params = {\n",
        "            'ima': 1,          # show only minerals approved by ima\n",
        "            'page_size': '200', # set the item amount for each page\n",
        "            'page': str(page),\n",
        "            'format': 'json'\n",
        "        }\n",
        "        response = requests.get(MINDAT_API_URL+\"/items/\",\n",
        "                        params=params,\n",
        "                        headers=headers)\n",
        "\n",
        "        json_file = response.json()\n",
        "        if 1 == page:\n",
        "            json_all = json_file\n",
        "        else:\n",
        "            try:\n",
        "                json_all['results'] += json_file['results']\n",
        "            except KeyError:\n",
        "                break\n",
        "    json.dump(json_all, f, indent=4)\n",
        "print(\"Successfully saved \" + str(len(json_all['results'])) + \" entries to \" + str(ima_file_path))"
      ],
      "metadata": {
        "colab": {
          "base_uri": "https://localhost:8080/"
        },
        "id": "gvp61uTYipYu",
        "outputId": "cb491480-91ff-4072-d187-f150a4118eea"
      },
      "execution_count": 30,
      "outputs": [
        {
          "output_type": "stream",
          "name": "stdout",
          "text": [
            "Successfully saved 5900 entries to /content/drive/MyDrive/MindatAPI_folder/mindat_items_IMA.json\n"
          ]
        }
      ]
    },
    {
      "cell_type": "markdown",
      "source": [
        "### Get the Items with Selected Fields\n"
      ],
      "metadata": {
        "id": "OQ0gnOdPnlZX"
      }
    },
    {
      "cell_type": "markdown",
      "source": [
        "Examples for Mindat API fields: `id,name,updttime,mindat_formula,mindat_formula_note,ima_formula,ima_status,ima_notes,varietyof,synid,polytypeof,groupid,entrytype,entrytype_text,description_short,impurities,elements,sigelements,tlform,cim,occurrence,otheroccurrence,industrial,discovery_year,diapheny,cleavage,parting,tenacity,colour,csmetamict,opticalextinction,hmin,hardtype,hmax,vhnmin,vhnmax,vhnerror,vhng,vhns,luminescence,lustre,lustretype,aboutname,other,streak,csystem,cclass,spacegroup,a,b,c,alpha,beta,gamma,aerror,berror,cerror,alphaerror,betaerror,gammaerror,va3,z,dmeas,dmeas2,dcalc,dmeaserror,dcalcerror,cleavagetype,fracturetype,morphology,twinning,epitaxidescription,opticaltype,opticalsign,opticalalpha,opticalbeta,opticalgamma,opticalomega,opticalepsilon,opticalalpha2,opticalbeta2,opticalgamma2,opticalepsilon2,opticalomega2,opticaln,opticaln2,optical2vcalc,optical2vmeasured,optical2vcalc2,optical2vmeasured2,opticalalphaerror,opticalbetaerror,opticalgammaerror,opticalomegaerror,opticalepsilonerror,opticalnerror,optical2vcalcerror,optical2vmeasurederror,opticaldispersion,opticalpleochroism,opticalpleochorismdesc,opticalbirefringence,opticalcomments,opticalcolour,opticalinternal,opticaltropic,opticalanisotropism,opticalbireflectance,opticalr,uv,ir,magnetism,type_specimen_store,commenthard,cim,strunz10ed1,strunz10ed2,strunz10ed3,strunz10ed4,dana8ed1,dana8ed2,dana8ed3,dana8ed4,thermalbehaviour,commentluster,commentbreak,commentdense,commentcrystal,commentcolor,electrical,tranglide,nolocadd,weighting,specdispm,spacegroupset,approval_year,publication_year,ima_history,rock_parent,rock_parent2,rock_root,rock_bgs_code,meteoritical_code,key_elements,shortcode_ima,~all,*`\n",
        "\n",
        "[Source](https://api.mindat.org/schema/redoc/#tag/items/operation/items_list)"
      ],
      "metadata": {
        "id": "vgRLWpJooBhx"
      }
    },
    {
      "cell_type": "code",
      "source": [
        "MINDAT_API_URL = \"https://api.mindat.org\"\n",
        "headers = {'Authorization': 'Token '+ YOUR_API_KEY}\n",
        "\n",
        "select_file_name = \"mindat_items_select.json\"\n",
        "select_file_path = Path(WORKING_DIR, select_file_name)\n",
        "select_file_path"
      ],
      "metadata": {
        "colab": {
          "base_uri": "https://localhost:8080/"
        },
        "id": "KUus01VVnrLn",
        "outputId": "d9480737-ecc0-4180-9dac-850500e5a67e"
      },
      "execution_count": 39,
      "outputs": [
        {
          "output_type": "execute_result",
          "data": {
            "text/plain": [
              "PosixPath('/content/drive/MyDrive/MindatAPI_folder/mindat_items_select.json')"
            ]
          },
          "metadata": {},
          "execution_count": 39
        }
      ]
    },
    {
      "cell_type": "code",
      "source": [
        "# set your selected fields here\n",
        "fields_str = 'id,name,mindat_formula'"
      ],
      "metadata": {
        "id": "xpu636_dpIWs"
      },
      "execution_count": 49,
      "outputs": []
    },
    {
      "cell_type": "code",
      "source": [
        "with open(select_file_path, 'w') as f:\n",
        "    PAGE_RANGE = 2 # put a large value if you intend to retrieve all the entries\n",
        "    for page in range(1, PAGE_RANGE):\n",
        "        params = {\n",
        "            'fields': fields_str, # put your selected fields here\n",
        "            'page_size': '100', # set the item amount for each page\n",
        "            'page': str(page),\n",
        "            'format': 'json'\n",
        "        }\n",
        "        response = requests.get(MINDAT_API_URL+\"/items/\",\n",
        "                        params=params,\n",
        "                        headers=headers)\n",
        "\n",
        "        json_file = response.json()\n",
        "        if 1 == page:\n",
        "            json_all = json_file\n",
        "        else:\n",
        "            try:\n",
        "                json_all['results'] += json_file['results']\n",
        "            except KeyError:\n",
        "                break\n",
        "    json.dump(json_all, f, indent=4)\n",
        "print(\"Successfully saved \" + str(len(json_all['results'])) + \" entries to \" + str(select_file_path))"
      ],
      "metadata": {
        "colab": {
          "base_uri": "https://localhost:8080/"
        },
        "id": "j7z0PF1WpVC1",
        "outputId": "ef0aeb97-8f5d-4394-f9f1-d7754992cff6"
      },
      "execution_count": 62,
      "outputs": [
        {
          "output_type": "stream",
          "name": "stdout",
          "text": [
            "Successfully saved 100 entries to /content/drive/MyDrive/MindatAPI_folder/mindat_items_select.json\n"
          ]
        }
      ]
    },
    {
      "cell_type": "markdown",
      "source": [
        "### Get the Items with Omitted Fields"
      ],
      "metadata": {
        "id": "jo-RRZDBt4JA"
      }
    },
    {
      "cell_type": "code",
      "source": [
        "MINDAT_API_URL = \"https://api.mindat.org\"\n",
        "headers = {'Authorization': 'Token '+ YOUR_API_KEY}\n",
        "\n",
        "omit_file_name = \"mindat_items_omit.json\"\n",
        "omit_file_path = Path(WORKING_DIR, omit_file_name)\n",
        "omit_file_path"
      ],
      "metadata": {
        "colab": {
          "base_uri": "https://localhost:8080/"
        },
        "id": "ZU5xY7IGupq6",
        "outputId": "0b2f1dbc-f7a5-4e00-e95a-38f40151b9ef"
      },
      "execution_count": 64,
      "outputs": [
        {
          "output_type": "execute_result",
          "data": {
            "text/plain": [
              "PosixPath('/content/drive/MyDrive/MindatAPI_folder/mindat_items_omit.json')"
            ]
          },
          "metadata": {},
          "execution_count": 64
        }
      ]
    },
    {
      "cell_type": "code",
      "source": [
        "omit_str = 'id,name,dispformulasimple'"
      ],
      "metadata": {
        "id": "D-7OCuOLuzeb"
      },
      "execution_count": 65,
      "outputs": []
    },
    {
      "cell_type": "code",
      "source": [
        "with open(omit_file_path, 'w') as f:\n",
        "    PAGE_RANGE = 2 # put a large value if you intend to retrieve all the entries\n",
        "    for page in range(1, PAGE_RANGE):\n",
        "        params = {\n",
        "            'omit': omit_str,\n",
        "            'page_size': '100', # set the item amount for each page\n",
        "            'page': str(page),\n",
        "            'format': 'json'\n",
        "        }\n",
        "        response = requests.get(MINDAT_API_URL+\"/items/\",\n",
        "                        params=params,\n",
        "                        headers=headers)\n",
        "\n",
        "        json_file = response.json()\n",
        "        if 1 == page:\n",
        "            json_all = json_file\n",
        "        else:\n",
        "            try:\n",
        "                json_all['results'] += json_file['results']\n",
        "            except KeyError:\n",
        "                break\n",
        "    json.dump(json_all, f, indent=4)\n",
        "print(\"Successfully saved \" + str(len(json_all['results'])) + \" entries to \" + str(omit_file_path))"
      ],
      "metadata": {
        "colab": {
          "base_uri": "https://localhost:8080/"
        },
        "id": "LvYeV9utu78t",
        "outputId": "9e7d7198-a076-4f51-8547-4ed0a8112454"
      },
      "execution_count": 66,
      "outputs": [
        {
          "output_type": "stream",
          "name": "stdout",
          "text": [
            "Successfully saved 100 entries to /content/drive/MyDrive/MindatAPI_folder/mindat_items_omit.json\n"
          ]
        }
      ]
    }
  ]
}