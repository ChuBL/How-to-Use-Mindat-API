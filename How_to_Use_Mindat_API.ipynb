{
  "cells": [
    {
      "cell_type": "markdown",
      "metadata": {
        "id": "qrMhTOpOyjAP"
      },
      "source": [
        "<a target=\"_blank\" href=\"https://colab.research.google.com/github/ChuBL/How-to-Use-Mindat-API/blob/main/How_to_Use_Mindat_API.ipynb\">\n",
        "  <img src=\"https://colab.research.google.com/assets/colab-badge.svg\" alt=\"Open In Colab\"/>\n",
        "</a>"
      ]
    },
    {
      "cell_type": "markdown",
      "metadata": {
        "id": "u65PipxXuNbO"
      },
      "source": [
        "# How to Use OpenMindat Data API to Query and Download Datasets\n"
      ]
    },
    {
      "cell_type": "markdown",
      "metadata": {
        "id": "OOT8B2v7odok"
      },
      "source": [
        "## 0. Access Your Mindat API Token"
      ]
    },
    {
      "cell_type": "markdown",
      "metadata": {
        "id": "59gsuIxcoiIU"
      },
      "source": [
        "[How to Get My Mindat API Key or Token?](https://www.mindat.org/a/how_to_get_my_mindat_api_key)"
      ]
    },
    {
      "cell_type": "markdown",
      "metadata": {
        "id": "YmvOE3ClX207"
      },
      "source": [
        "## 1. Dependencies (Please run this section first)"
      ]
    },
    {
      "cell_type": "code",
      "execution_count": null,
      "metadata": {
        "id": "gpxJUYWHaPCw"
      },
      "outputs": [],
      "source": [
        "from pathlib import Path\n",
        "import os\n",
        "import sys\n",
        "import json\n",
        "import re\n",
        "import pprint\n",
        "import requests"
      ]
    },
    {
      "cell_type": "code",
      "execution_count": null,
      "metadata": {
        "id": "zyImDhp2aYNq"
      },
      "outputs": [],
      "source": [
        "# You can change this working path according to your preference\n",
        "# If the folder didn't show up in the left column, click the refresh button\n",
        "WORKING_DIR = \"/content/MindatAPI_folder/\"\n",
        "Path(WORKING_DIR).mkdir(parents=True, exist_ok=True)"
      ]
    },
    {
      "cell_type": "markdown",
      "metadata": {
        "id": "RhAUoA9pcIQv"
      },
      "source": [
        "You should **avoid** placing your API token explicitly in your code if you plan to share it.\n",
        "\n",
        "For example, you can drag a text file of your token to the working directory to upload it, then access it using the following code. Or you can input it manually."
      ]
    },
    {
      "cell_type": "code",
      "execution_count": null,
      "metadata": {
        "id": "QSoVg4g-eQw0"
      },
      "outputs": [],
      "source": [
        "YOUR_API_KEY = \"\""
      ]
    },
    {
      "cell_type": "code",
      "execution_count": null,
      "metadata": {
        "id": "nW9tqw7ScEs9"
      },
      "outputs": [],
      "source": [
        "%%script false --no-raise-error\n",
        "# comment out the first line to activate this code block\n",
        "api_key_file_dir = \"/content/drive/MyDrive/MindatAPI_folder/api_key.txt\"\n",
        "try:\n",
        "    with open(api_key_file_dir, 'r') as f:\n",
        "        YOUR_API_KEY = f.read()\n",
        "except FileNotFoundError:\n",
        "    print(\"API key file not found. Please create a text file containing your api key and place it in the correct directory.\")"
      ]
    },
    {
      "cell_type": "code",
      "execution_count": null,
      "metadata": {
        "id": "39HPkjIKaMBo"
      },
      "outputs": [],
      "source": [
        "%%script false --no-raise-error\n",
        "# comment out the first line to activate this code block\n",
        "YOUR_API_KEY = input()"
      ]
    },
    {
      "cell_type": "code",
      "execution_count": null,
      "metadata": {
        "id": "tYg14BcheNlO"
      },
      "outputs": [],
      "source": [
        "try:\n",
        "    assert 0 != len(YOUR_API_KEY)\n",
        "except AssertionError:\n",
        "    raise Exception(\"Please set a valid API token before the start!\")"
      ]
    },
    {
      "cell_type": "markdown",
      "metadata": {
        "id": "BZb3kkEaa5HJ"
      },
      "source": [
        "## 2. Use Cases\n"
      ]
    },
    {
      "cell_type": "markdown",
      "metadata": {
        "id": "2bVXRaAPa5HK"
      },
      "source": [
        "### Get the Geomaterial Items with Selected Fields\n"
      ]
    },
    {
      "cell_type": "markdown",
      "metadata": {
        "id": "Re-0qXaqa5HK"
      },
      "source": [
        "Examples for Mindat API fields: `fields=id,longid,guid,name,updttime,mindat_formula,mindat_formula_note,ima_formula,ima_status,...`\n",
        "\n",
        "For entire fields list, see: [OpenMindat API Documentation](https://api.mindat.org/schema/redoc/#tag/items/operation/items_list)"
      ]
    },
    {
      "cell_type": "markdown",
      "metadata": {
        "id": "XDNc6JvSa5HL"
      },
      "source": [
        "A comprehensive field explanations document can be found [here](https://github.com/smrgeoinfo/How-to-Use-Mindat-API/blob/main/geomaterialfields.csv)."
      ]
    },
    {
      "cell_type": "code",
      "execution_count": null,
      "metadata": {
        "colab": {
          "base_uri": "https://localhost:8080/"
        },
        "id": "bbbi4j5Pa5HL",
        "outputId": "c57c5978-5000-434c-ebb7-4fd8ef54169f"
      },
      "outputs": [],
      "source": [
        "MINDAT_API_URL = \"https://api.mindat.org\"\n",
        "headers = {'Authorization': 'Token '+ YOUR_API_KEY}\n",
        "\n",
        "select_file_name = \"mindat_items_select.json\"\n",
        "select_file_path = Path(WORKING_DIR, select_file_name)\n",
        "select_file_path"
      ]
    },
    {
      "cell_type": "code",
      "execution_count": null,
      "metadata": {
        "id": "sjJWzJxba5HL"
      },
      "outputs": [],
      "source": [
        "# set your selected fields here\n",
        "fields_str = 'id,name,mindat_formula'\n",
        "\n",
        "with open(select_file_path, 'w') as f:\n",
        "    params = {\n",
        "        'fields': fields_str, # put your selected fields here\n",
        "        'format': 'json'\n",
        "    }\n",
        "    response = requests.get(MINDAT_API_URL+\"/geomaterials/\",\n",
        "                    params=params,\n",
        "                    headers=headers)\n",
        "\n",
        "    result_data = response.json()[\"results\"]\n",
        "    json_data = {\"results\": result_data}\n",
        "\n",
        "    # Uncomment the following code to obtain more than ten results\n",
        "    # while True:\n",
        "    #     try:\n",
        "    #         next_url = response.json()[\"next\"]\n",
        "    #         response = requests.get(next_url, headers=headers)\n",
        "    #         json_data[\"results\"] += response.json()['results']\n",
        "\n",
        "    #     except requests.exceptions.MissingSchema as e:\n",
        "    #         # This error indicates the `next_url` is none\n",
        "    #         break\n",
        "\n",
        "    json.dump(json_data, f, indent=4)\n",
        "print(\"Successfully saved \" + str(len(json_data['results'])) + \" entries to \" + str(select_file_path))"
      ]
    },
    {
      "cell_type": "markdown",
      "metadata": {
        "id": "N-obNLZGa5HL"
      },
      "source": [
        "### Get the Geomaterial Items with Omitted Fields"
      ]
    },
    {
      "cell_type": "code",
      "execution_count": null,
      "metadata": {
        "colab": {
          "base_uri": "https://localhost:8080/"
        },
        "id": "EkgONGY5a5HM",
        "outputId": "31f39b15-4f82-43df-a540-35aa45a2901f"
      },
      "outputs": [],
      "source": [
        "MINDAT_API_URL = \"https://api.mindat.org\"\n",
        "headers = {'Authorization': 'Token '+ YOUR_API_KEY}\n",
        "\n",
        "omit_file_name = \"mindat_items_omit.json\"\n",
        "omit_file_path = Path(WORKING_DIR, omit_file_name)\n",
        "omit_file_path"
      ]
    },
    {
      "cell_type": "code",
      "execution_count": null,
      "metadata": {
        "colab": {
          "base_uri": "https://localhost:8080/"
        },
        "id": "u-E86IVna5HM",
        "outputId": "9d527b84-a783-4e0e-da97-dd0010f4e510"
      },
      "outputs": [],
      "source": [
        "omit_str = 'id,name,updttime'\n",
        "\n",
        "\n",
        "with open(omit_file_path, 'w') as f:\n",
        "    params = {\n",
        "        'omit': omit_str,\n",
        "        'format': 'json'\n",
        "    }\n",
        "    response = requests.get(MINDAT_API_URL+\"/geomaterials/\",\n",
        "                    params=params,\n",
        "                    headers=headers)\n",
        "\n",
        "    result_data = response.json()[\"results\"]\n",
        "    json_data = {\"results\": result_data}\n",
        "\n",
        "    # Uncomment the following code to obtain more than ten results\n",
        "    # while True:\n",
        "    #     try:\n",
        "    #         next_url = response.json()[\"next\"]\n",
        "    #         response = requests.get(next_url, headers=headers)\n",
        "    #         json_data[\"results\"] += response.json()['results']\n",
        "\n",
        "    #     except requests.exceptions.MissingSchema as e:\n",
        "    #         # This error indicates the `next_url` is none\n",
        "    #         break\n",
        "\n",
        "    json.dump(json_data, f, indent=4)\n",
        "print(\"Successfully saved \" + str(len(json_data['results'])) + \" entries to \" + str(omit_file_path))"
      ]
    },
    {
      "cell_type": "markdown",
      "metadata": {
        "id": "lCu8IZeLa5HM"
      },
      "source": [
        "### Get the IMA-Approved Mineral Geomaterial Items"
      ]
    },
    {
      "cell_type": "code",
      "execution_count": null,
      "metadata": {
        "colab": {
          "base_uri": "https://localhost:8080/"
        },
        "id": "c71OrsJia5HM",
        "outputId": "514710ff-5eeb-4db2-eb59-99e39759d58d"
      },
      "outputs": [],
      "source": [
        "MINDAT_API_URL = \"https://api.mindat.org\"\n",
        "headers = {'Authorization': 'Token '+ YOUR_API_KEY}\n",
        "\n",
        "ima_file_name = \"mindat_items_IMA.json\"\n",
        "ima_file_path = Path(WORKING_DIR, ima_file_name)\n",
        "ima_file_path"
      ]
    },
    {
      "cell_type": "markdown",
      "metadata": {
        "id": "aliXJVnXHjWr"
      },
      "source": [
        "This query will obtain thousands of mineral species and may take a couple of minutes(4min ~)."
      ]
    },
    {
      "cell_type": "code",
      "execution_count": null,
      "metadata": {
        "colab": {
          "base_uri": "https://localhost:8080/"
        },
        "id": "hzl4DWrza5HM",
        "outputId": "12ad75fe-3822-49c9-d974-8f85a8dae35b"
      },
      "outputs": [],
      "source": [
        "with open(ima_file_path, 'w') as f:\n",
        "    params = {\n",
        "        'format': 'json'\n",
        "    }\n",
        "    response = requests.get(MINDAT_API_URL+\"/minerals_ima/\",\n",
        "                    params=params,\n",
        "                    headers=headers)\n",
        "\n",
        "    result_data = response.json()[\"results\"]\n",
        "    json_data = {\"results\": result_data}\n",
        "\n",
        "    while True:\n",
        "        try:\n",
        "            next_url = response.json()[\"next\"]\n",
        "            response = requests.get(next_url, headers=headers)\n",
        "            json_data[\"results\"] += response.json()['results']\n",
        "\n",
        "        except requests.exceptions.MissingSchema as e:\n",
        "            # This error indicates the `next_url` is none\n",
        "            break\n",
        "\n",
        "    json.dump(json_data, f, indent=4)\n",
        "print(\"Successfully saved \" + str(len(json_data['results'])) + \" entries to \" + str(ima_file_path))"
      ]
    },
    {
      "cell_type": "markdown",
      "metadata": {
        "id": "GNcVjmUia5HM"
      },
      "source": [
        "### Get the Geomaterial Items with Filters"
      ]
    },
    {
      "cell_type": "code",
      "execution_count": null,
      "metadata": {
        "colab": {
          "base_uri": "https://localhost:8080/"
        },
        "id": "PDMxIxUca5HM",
        "outputId": "0bc5e502-9d42-4a01-c5bc-962fbfa523bb"
      },
      "outputs": [],
      "source": [
        "MINDAT_API_URL = \"https://api.mindat.org\"\n",
        "headers = {'Authorization': 'Token '+ YOUR_API_KEY}\n",
        "\n",
        "filter_file_name = \"mindat_items_filter.json\"\n",
        "filter_file_path = Path(WORKING_DIR, filter_file_name)\n",
        "filter_file_path"
      ]
    },
    {
      "cell_type": "markdown",
      "metadata": {
        "id": "vLn5hXkQTwQS"
      },
      "source": [
        "This query will obtain full-sized IMA mineral information from Mindat and may take a couple of minutes(6min ~)."
      ]
    },
    {
      "cell_type": "code",
      "execution_count": null,
      "metadata": {
        "colab": {
          "base_uri": "https://localhost:8080/"
        },
        "id": "08dR3vGVa5HN",
        "outputId": "2b2a8b7c-0c24-4a41-f626-1daf91aaf07e"
      },
      "outputs": [],
      "source": [
        "filter_dict = {\n",
        "          \"ima_status\": [\n",
        "                    \"APPROVED\"\n",
        "                ], # an alternative way to obtain the IMA-approved minerals\n",
        "          #\"id_in\": '1,2',\n",
        "          #\"colour\": \"green\",\n",
        "          'format': 'json',\n",
        "          }\n",
        "\n",
        "with open(filter_file_path, 'w') as f:\n",
        "\n",
        "    response = requests.get(MINDAT_API_URL+\"/geomaterials/\",\n",
        "                    params=filter_dict,\n",
        "                    headers=headers)\n",
        "\n",
        "    result_data = response.json()[\"results\"]\n",
        "    json_data = {\"results\": result_data}\n",
        "\n",
        "    while True:\n",
        "        try:\n",
        "            next_url = response.json()[\"next\"]\n",
        "            response = requests.get(next_url, headers=headers)\n",
        "            json_data[\"results\"] += response.json()['results']\n",
        "\n",
        "        except requests.exceptions.MissingSchema as e:\n",
        "            # This error indicates the `next_url` is none\n",
        "            break\n",
        "\n",
        "    json.dump(json_data, f, indent=4)\n",
        "print(\"Successfully saved \" + str(len(json_data[\"results\"])) + \" entries to \" + str(filter_file_path))"
      ]
    },
    {
      "cell_type": "markdown",
      "metadata": {
        "id": "tJywJN-ia5HN"
      },
      "source": [
        "### Get the Geomaterial Items with Fuzzy Search"
      ]
    },
    {
      "cell_type": "code",
      "execution_count": null,
      "metadata": {
        "colab": {
          "base_uri": "https://localhost:8080/"
        },
        "id": "T4BI-fZ3a5HN",
        "outputId": "0876fe9a-fe5c-4099-be6a-bd7c936fcdf1"
      },
      "outputs": [],
      "source": [
        "MINDAT_API_URL = \"https://api.mindat.org\"\n",
        "headers = {'Authorization': 'Token '+ YOUR_API_KEY}\n",
        "\n",
        "file_name = \"mindat_items_search.json\"\n",
        "file_path = Path(WORKING_DIR, file_name)\n",
        "file_path"
      ]
    },
    {
      "cell_type": "code",
      "execution_count": null,
      "metadata": {
        "colab": {
          "base_uri": "https://localhost:8080/"
        },
        "id": "fDL5rkR9a5HN",
        "outputId": "0198b9a4-f436-4ee7-e7a8-53a95ebd869b"
      },
      "outputs": [],
      "source": [
        "filter_dict = {'q': 'quartz and ruby', # input what you about to search same as the home page\n",
        "          'format': 'json',\n",
        "          }\n",
        "\n",
        "with open(file_path, 'w') as f:\n",
        "    params = filter_dict\n",
        "\n",
        "    response = requests.get(MINDAT_API_URL+\"/geomaterials_search/\",\n",
        "                    params=params,\n",
        "                    headers=headers)\n",
        "\n",
        "    result_data = response.json()\n",
        "    json_data = {\"results\": result_data}\n",
        "\n",
        "    json.dump(json_data, f, indent=4)\n",
        "print(\"Successfully saved \" + str(len(json_data[\"results\"])) + \" entries to \" + str(file_path))"
      ]
    },
    {
      "cell_type": "markdown",
      "metadata": {
        "id": "Q3EBzJhIa5HN"
      },
      "source": [
        "### Get Single Locality"
      ]
    },
    {
      "cell_type": "code",
      "execution_count": null,
      "metadata": {
        "colab": {
          "base_uri": "https://localhost:8080/"
        },
        "id": "mNm2Tftka5HN",
        "outputId": "f8c8738d-93c0-4e48-9cc5-10e0256da7e4"
      },
      "outputs": [],
      "source": [
        "MINDAT_API_URL = \"https://api.mindat.org\"\n",
        "headers = {'Authorization': 'Token '+ YOUR_API_KEY}\n",
        "\n",
        "sig_loc_file_name = \"mindat_loc_single.json\"\n",
        "sig_loc_file_path = Path(WORKING_DIR, sig_loc_file_name)\n",
        "sig_loc_file_path"
      ]
    },
    {
      "cell_type": "code",
      "execution_count": null,
      "metadata": {
        "colab": {
          "base_uri": "https://localhost:8080/"
        },
        "id": "Fb-mwTn-a5HN",
        "outputId": "17b1813f-ab2a-4057-a005-d3fc97fe982a"
      },
      "outputs": [],
      "source": [
        "with open(sig_loc_file_path, 'w') as f:\n",
        "    # The Mindat locality page for Moscow, Idaho\n",
        "    # https://www.mindat.org/loc-58150.html\n",
        "    locality_id = '306797'\n",
        "    response = requests.get(MINDAT_API_URL + '/localities/' + locality_id,\n",
        "                    headers=headers)\n",
        "    result_data = response.json()\n",
        "    json_data = {\"results\": [result_data]}\n",
        "\n",
        "    json.dump(json_data, f, indent=4)\n",
        "print(\"Successfully saved the locality to \" + str(sig_loc_file_path))"
      ]
    },
    {
      "cell_type": "markdown",
      "metadata": {
        "id": "NuLEEpYSa5HN"
      },
      "source": [
        "### Get Locality List with multiple IDs"
      ]
    },
    {
      "cell_type": "code",
      "execution_count": null,
      "metadata": {
        "colab": {
          "base_uri": "https://localhost:8080/"
        },
        "id": "E7Vf57s-a5HO",
        "outputId": "d0ccf98a-1202-4b36-be4c-48e63ac572ee"
      },
      "outputs": [],
      "source": [
        "MINDAT_API_URL = \"https://api.mindat.org\"\n",
        "headers = {'Authorization': 'Token '+ YOUR_API_KEY}\n",
        "\n",
        "loc_file_name = \"mindat_loc_list.json\"\n",
        "loc_file_path = Path(WORKING_DIR, loc_file_name)\n",
        "loc_file_path"
      ]
    },
    {
      "cell_type": "code",
      "execution_count": null,
      "metadata": {
        "colab": {
          "base_uri": "https://localhost:8080/"
        },
        "id": "yeBGKa7ha5HO",
        "outputId": "d53be60a-a238-47fe-d253-b29501d2a303"
      },
      "outputs": [],
      "source": [
        "with open(loc_file_path, 'w') as f:\n",
        "    params = {\n",
        "        # Mindat loc ids for Moscow and Los Angeles\n",
        "        'id__in': '58150,3493',\n",
        "        'format': 'json'\n",
        "    }\n",
        "\n",
        "    response = requests.get(MINDAT_API_URL + '/localities/',\n",
        "                    params=params,\n",
        "                    headers=headers)\n",
        "\n",
        "    result_data = response.json()[\"results\"]\n",
        "    json_data = {\"results\": result_data}\n",
        "\n",
        "    while True:\n",
        "        try:\n",
        "            next_url = response.json()[\"next\"]\n",
        "            response = requests.get(next_url, headers=headers)\n",
        "            json_data[\"results\"] += response.json()['results']\n",
        "\n",
        "        except requests.exceptions.MissingSchema as e:\n",
        "            # This error indicates the `next_url` is none\n",
        "            break\n",
        "\n",
        "    json.dump(json_data, f, indent=4)\n",
        "print(\"Successfully saved \" + str(len(json_data['results'])) + \" entries to \" + str(loc_file_path))"
      ]
    },
    {
      "cell_type": "markdown",
      "metadata": {
        "id": "1hZW1eb0KL5f"
      },
      "source": [
        "# 3. Test Zone"
      ]
    },
    {
      "cell_type": "markdown",
      "metadata": {
        "id": "bzPZb-V_kCfe"
      },
      "source": [
        "### Get All the Geomaterial Items\n"
      ]
    },
    {
      "cell_type": "markdown",
      "metadata": {
        "id": "dPy7JQpYAbS1"
      },
      "source": [
        "❗Please note that this section of codes will retrieve hundreds of **MB** of data from the Mindat server.\n",
        "\n",
        "❗This operation may consume a significant time and API access quota."
      ]
    },
    {
      "cell_type": "code",
      "execution_count": null,
      "metadata": {
        "id": "JRt7_VwxkbPf"
      },
      "outputs": [],
      "source": [
        "MINDAT_API_URL = \"https://api.mindat.org\"\n",
        "headers = {'Authorization': 'Token '+ YOUR_API_KEY}\n",
        "\n",
        "all_file_name = \"mindat_items_all.json\"\n",
        "all_file_path = Path(WORKING_DIR, all_file_name)\n",
        "all_file_path"
      ]
    },
    {
      "cell_type": "code",
      "execution_count": null,
      "metadata": {
        "id": "VzuHQxA4kx4H"
      },
      "outputs": [],
      "source": [
        "with open(all_file_path, 'w') as f:\n",
        "    params = {\n",
        "        'format': 'json',\n",
        "    }\n",
        "    response = requests.get(MINDAT_API_URL+\"/geomaterials/\",\n",
        "                            params=params,\n",
        "                            headers=headers)\n",
        "    result_data = response.json()[\"results\"]\n",
        "    json_data = {\"results\": result_data}\n",
        "\n",
        "    while True:\n",
        "        try:\n",
        "            next_url = response.json()[\"next\"]\n",
        "            response = requests.get(next_url, headers=headers)\n",
        "            json_data[\"results\"] += response.json()['results']\n",
        "\n",
        "        except requests.exceptions.MissingSchema as e:\n",
        "            # This error indicates the `next_url` is none\n",
        "            break\n",
        "\n",
        "    json.dump(json_data, f, indent=4)\n",
        "print(\"Successfully saved \" + str(len(json_data['results'])) + \" entries to \" + str(all_file_path))"
      ]
    },
    {
      "cell_type": "markdown",
      "metadata": {
        "id": "N1KNupx6DQ9T"
      },
      "source": [
        "### Get the Geomaterial Items with Filters"
      ]
    },
    {
      "cell_type": "code",
      "execution_count": null,
      "metadata": {
        "colab": {
          "base_uri": "https://localhost:8080/"
        },
        "id": "WIwAxXhWDQ9T",
        "outputId": "0171f0a9-7c83-4118-c3eb-c7977f520dc9"
      },
      "outputs": [],
      "source": [
        "MINDAT_API_URL = \"https://api.mindat.org\"\n",
        "headers = {'Authorization': 'Token '+ YOUR_API_KEY}\n",
        "\n",
        "filter_file_name = \"mindat_items_filter.json\"\n",
        "filter_file_path = Path(WORKING_DIR, filter_file_name)\n",
        "filter_file_path"
      ]
    },
    {
      "cell_type": "code",
      "execution_count": null,
      "metadata": {
        "colab": {
          "base_uri": "https://localhost:8080/"
        },
        "id": "zTV02q_vDQ9T",
        "outputId": "fbd55900-378e-4ea2-a890-4c5cd00e4014"
      },
      "outputs": [],
      "source": [
        "filter_dict = {\n",
        "          #\"longid\": \"1:1:13:6\",\n",
        "          #\"colour\": \"green\",\n",
        "          \"guid\": \"c339183f-cf96-4ccc-96c9-6eeb7a0c81d0\",\n",
        "          'format': 'json',\n",
        "          }\n",
        "\n",
        "with open(filter_file_path, 'w') as f:\n",
        "\n",
        "    response = requests.get(MINDAT_API_URL+\"/geomaterials/\",\n",
        "                    params=filter_dict,\n",
        "                    headers=headers)\n",
        "\n",
        "    result_data = response.json()['results']\n",
        "    json_data = {\"results\": result_data}\n",
        "\n",
        "    # Uncomment the following code to obtain more than ten results\n",
        "    # while True:\n",
        "    #     try:\n",
        "    #         next_url = response.json()[\"next\"]\n",
        "    #         response = requests.get(next_url, headers=headers)\n",
        "    #         json_data[\"results\"] += response.json()['results']\n",
        "\n",
        "    #     except requests.exceptions.MissingSchema as e:\n",
        "    #         # This error indicates the `next_url` is none\n",
        "    #         break\n",
        "\n",
        "    json.dump(json_data, f, indent=4)\n",
        "print(\"Successfully saved \" + str(len(json_data[\"results\"])) + \" entries to \" + str(filter_file_path))"
      ]
    },
    {
      "cell_type": "code",
      "execution_count": null,
      "metadata": {
        "id": "936-etUwDW-d"
      },
      "outputs": [],
      "source": []
    }
  ],
  "metadata": {
    "colab": {
      "collapsed_sections": [
        "2bVXRaAPa5HK",
        "N-obNLZGa5HL",
        "lCu8IZeLa5HM",
        "GNcVjmUia5HM",
        "tJywJN-ia5HN",
        "Q3EBzJhIa5HN",
        "NuLEEpYSa5HN",
        "bzPZb-V_kCfe"
      ],
      "provenance": []
    },
    "kernelspec": {
      "display_name": "Python 3",
      "name": "python3"
    },
    "language_info": {
      "name": "python"
    }
  },
  "nbformat": 4,
  "nbformat_minor": 0
}
