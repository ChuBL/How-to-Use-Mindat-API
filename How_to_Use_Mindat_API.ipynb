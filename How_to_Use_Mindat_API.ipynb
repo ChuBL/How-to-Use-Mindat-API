{
  "cells": [
    {
      "attachments": {},
      "cell_type": "markdown",
      "metadata": {
        "id": "qrMhTOpOyjAP"
      },
      "source": [
        "<a target=\"_blank\" href=\"https://colab.research.google.com/github/ChuBL/How-to-Use-Mindat-API/blob/main/How_to_Use_Mindat_API.ipynb\">\n",
        "  <img src=\"https://colab.research.google.com/assets/colab-badge.svg\" alt=\"Open In Colab\"/>\n",
        "</a>"
      ]
    },
    {
      "attachments": {},
      "cell_type": "markdown",
      "metadata": {
        "id": "u65PipxXuNbO"
      },
      "source": [
        "# How to Use OpenMindat Data API to Query and Download Datasets\n"
      ]
    },
    {
      "attachments": {},
      "cell_type": "markdown",
      "metadata": {
        "id": "OOT8B2v7odok"
      },
      "source": [
        "## 0. Access Your Mindat API Token"
      ]
    },
    {
      "attachments": {},
      "cell_type": "markdown",
      "metadata": {
        "id": "59gsuIxcoiIU"
      },
      "source": [
        "[How to Get My Mindat API Key or Token?](https://www.mindat.org/a/how_to_get_my_mindat_api_key)"
      ]
    },
    {
      "attachments": {},
      "cell_type": "markdown",
      "metadata": {
        "id": "YmvOE3ClX207"
      },
      "source": [
        "## 1. Dependencies (Please run this section first)"
      ]
    },
    {
      "cell_type": "code",
      "execution_count": null,
      "metadata": {
        "colab": {
          "base_uri": "https://localhost:8080/"
        },
        "id": "HcpFlVR9Xvzj",
        "outputId": "421ba5d2-2bdc-4918-f0c2-73203ffb2365"
      },
      "outputs": [],
      "source": [
        "from google.colab import drive\n",
        "drive.mount('/content/drive')"
      ]
    },
    {
      "attachments": {},
      "cell_type": "markdown",
      "metadata": {
        "id": "UublqFDuYxeU"
      },
      "source": [
        "This step will connect your Google Drive with this notebook, and you can check the 📁 file management system in the left column."
      ]
    },
    {
      "cell_type": "code",
      "execution_count": null,
      "metadata": {
        "id": "gpxJUYWHaPCw"
      },
      "outputs": [],
      "source": [
        "from pathlib import Path\n",
        "import os\n",
        "import sys\n",
        "import json\n",
        "import re\n",
        "import pprint\n",
        "import requests"
      ]
    },
    {
      "cell_type": "code",
      "execution_count": null,
      "metadata": {
        "id": "zyImDhp2aYNq"
      },
      "outputs": [],
      "source": [
        "# You can change this working path according to your preference\n",
        "# If the folder didn't show up in the left column, click the refresh button\n",
        "WORKING_DIR = \"/content/drive/MyDrive/MindatAPI_folder/\"\n",
        "Path(WORKING_DIR).mkdir(parents=True, exist_ok=True)"
      ]
    },
    {
      "attachments": {},
      "cell_type": "markdown",
      "metadata": {
        "id": "RhAUoA9pcIQv"
      },
      "source": [
        "You should **avoid** placing your API token explicitly in your code if you plan to share it.\n",
        "\n",
        "For example, you can drag a text file of your token to the working directory to upload it, then access it using the following code. Or you can input it manually."
      ]
    },
    {
      "cell_type": "code",
      "execution_count": null,
      "metadata": {
        "id": "QSoVg4g-eQw0"
      },
      "outputs": [],
      "source": [
        "YOUR_API_KEY = \"\""
      ]
    },
    {
      "cell_type": "code",
      "execution_count": null,
      "metadata": {
        "id": "nW9tqw7ScEs9"
      },
      "outputs": [],
      "source": [
        "%%script false --no-raise-error\n",
        "# comment out the first line to activate this code block\n",
        "api_key_file_dir = \"/content/drive/MyDrive/MindatAPI_folder/api_key.txt\"\n",
        "try:\n",
        "    with open(api_key_file_dir, 'r') as f:\n",
        "        YOUR_API_KEY = f.read()\n",
        "except FileNotFoundError:\n",
        "    print(\"API key file not found. Please create a text file containing your api key and place it in the correct directory.\")"
      ]
    },
    {
      "cell_type": "code",
      "execution_count": null,
      "metadata": {
        "id": "39HPkjIKaMBo"
      },
      "outputs": [],
      "source": [
        "%%script false --no-raise-error\n",
        "# comment out the first line to activate this code block\n",
        "YOUR_API_KEY = input()"
      ]
    },
    {
      "cell_type": "code",
      "execution_count": null,
      "metadata": {
        "id": "tYg14BcheNlO"
      },
      "outputs": [],
      "source": [
        "try:\n",
        "    assert 0 != len(YOUR_API_KEY)\n",
        "except AssertionError:\n",
        "    raise Exception(\"Please set a valid API token before the start!\")"
      ]
    },
    {
      "attachments": {},
      "cell_type": "markdown",
      "metadata": {
        "id": "wdufgKY9gq6H"
      },
      "source": [
        "## 2. Use Cases\n"
      ]
    },
    {
      "attachments": {},
      "cell_type": "markdown",
      "metadata": {
        "id": "OQ0gnOdPnlZX"
      },
      "source": [
        "### Get the Geomaterial Items with Selected Fields\n"
      ]
    },
    {
      "attachments": {},
      "cell_type": "markdown",
      "metadata": {
        "id": "vgRLWpJooBhx"
      },
      "source": [
        "Examples for Mindat API fields: `fields=id,longid,guid,name,updttime,mindat_formula,mindat_formula_note,ima_formula,ima_status,ima_notes,varietyof,synid,polytypeof,groupid,entrytype,entrytype_text,description_short,impurities,elements,sigelements,tlform,cim,occurrence,otheroccurrence,industrial,discovery_year,diapheny,cleavage,parting,tenacity,colour,csmetamict,opticalextinction,hmin,hardtype,hmax,vhnmin,vhnmax,vhnerror,vhng,vhns,luminescence,lustre,lustretype,aboutname,other,streak,csystem,cclass,spacegroup,a,b,c,alpha,beta,gamma,aerror,berror,cerror,alphaerror,betaerror,gammaerror,va3,z,dmeas,dmeas2,dcalc,dmeaserror,dcalcerror,cleavagetype,fracturetype,morphology,twinning,epitaxidescription,opticaltype,opticalsign,opticalalpha,opticalbeta,opticalgamma,opticalomega,opticalepsilon,opticalalpha2,opticalbeta2,opticalgamma2,opticalepsilon2,opticalomega2,opticaln,opticaln2,optical2vcalc,optical2vmeasured,optical2vcalc2,optical2vmeasured2,opticalalphaerror,opticalbetaerror,opticalgammaerror,opticalomegaerror,opticalepsilonerror,opticalnerror,optical2vcalcerror,optical2vmeasurederror,opticaldispersion,opticalpleochroism,opticalpleochorismdesc,opticalbirefringence,opticalcomments,opticalcolour,opticalinternal,opticaltropic,opticalanisotropism,opticalbireflectance,opticalr,uv,ir,magnetism,type_specimen_store,commenthard,cim,strunz10ed1,strunz10ed2,strunz10ed3,strunz10ed4,dana8ed1,dana8ed2,dana8ed3,dana8ed4,thermalbehaviour,commentluster,commentbreak,commentdense,commentcrystal,commentcolor,electrical,tranglide,nolocadd,specdispm,spacegroupset,approval_year,publication_year,ima_history,rock_parent,rock_parent2,rock_root,rock_bgs_code,meteoritical_code,key_elements,shortcode_ima,rimin,rimax,weighting,~all,*`\n",
        "\n",
        "[OpenMindat API Documentation](https://api.mindat.org/schema/redoc/#tag/items/operation/items_list)"
      ]
    },
    {
      "attachments": {},
      "cell_type": "markdown",
      "metadata": {
        "id": "9IRt8Llx9x3G"
      },
      "source": [
        "A comprehensive field explanations document can be found [here](https://github.com/smrgeoinfo/How-to-Use-Mindat-API/blob/main/geomaterialfields.csv)."
      ]
    },
    {
      "cell_type": "code",
      "execution_count": null,
      "metadata": {
        "colab": {
          "base_uri": "https://localhost:8080/"
        },
        "id": "KUus01VVnrLn",
        "outputId": "654fc9ba-1b6a-4ea4-8cc4-61d51c82a728"
      },
      "outputs": [],
      "source": [
        "MINDAT_API_URL = \"https://api.mindat.org\"\n",
        "headers = {'Authorization': 'Token '+ YOUR_API_KEY}\n",
        "\n",
        "select_file_name = \"mindat_items_select.json\"\n",
        "select_file_path = Path(WORKING_DIR, select_file_name)\n",
        "select_file_path"
      ]
    },
    {
      "cell_type": "code",
      "execution_count": null,
      "metadata": {
        "id": "xpu636_dpIWs"
      },
      "outputs": [],
      "source": [
        "# set your selected fields here\n",
        "fields_str = 'id,name,mindat_formula'"
      ]
    },
    {
      "cell_type": "code",
      "execution_count": null,
      "metadata": {
        "colab": {
          "base_uri": "https://localhost:8080/"
        },
        "id": "j7z0PF1WpVC1",
        "outputId": "d1fc22ff-ead5-4707-87cc-2828f7d6f2a6"
      },
      "outputs": [],
      "source": [
        "with open(select_file_path, 'w') as f:\n",
        "    params = {\n",
        "        'fields': fields_str, # put your selected fields here\n",
        "        'format': 'json'\n",
        "    }\n",
        "    response = requests.get(MINDAT_API_URL+\"/geomaterials/\",\n",
        "                    params=params,\n",
        "                    headers=headers)\n",
        "\n",
        "    result_data = response.json()[\"results\"]\n",
        "    json_data = {\"results\": result_data}\n",
        "\n",
        "    # while True:\n",
        "    #     try:\n",
        "    #         next_url = response.json()[\"next\"]\n",
        "    #         response = requests.get(next_url, headers=headers)\n",
        "    #         json_data[\"results\"] += response.json()['results']\n",
        "\n",
        "    #     except requests.exceptions.MissingSchema as e:\n",
        "    #         # This error indicates the `next_url` is none\n",
        "    #         break\n",
        "\n",
        "    json.dump(json_data, f, indent=4)\n",
        "print(\"Successfully saved \" + str(len(json_data['results'])) + \" entries to \" + str(select_file_path))"
      ]
    },
    {
      "attachments": {},
      "cell_type": "markdown",
      "metadata": {
        "id": "jo-RRZDBt4JA"
      },
      "source": [
        "### Get the Geomaterial Items with Omitted Fields"
      ]
    },
    {
      "cell_type": "code",
      "execution_count": null,
      "metadata": {
        "colab": {
          "base_uri": "https://localhost:8080/"
        },
        "id": "ZU5xY7IGupq6",
        "outputId": "6a7f27c2-1ecd-491f-c7e2-cd9b9a9d9fef"
      },
      "outputs": [],
      "source": [
        "MINDAT_API_URL = \"https://api.mindat.org\"\n",
        "headers = {'Authorization': 'Token '+ YOUR_API_KEY}\n",
        "\n",
        "omit_file_name = \"mindat_items_omit.json\"\n",
        "omit_file_path = Path(WORKING_DIR, omit_file_name)\n",
        "omit_file_path"
      ]
    },
    {
      "cell_type": "code",
      "execution_count": null,
      "metadata": {
        "id": "D-7OCuOLuzeb"
      },
      "outputs": [],
      "source": [
        "omit_str = 'id,name,updttime'"
      ]
    },
    {
      "cell_type": "code",
      "execution_count": null,
      "metadata": {
        "colab": {
          "base_uri": "https://localhost:8080/"
        },
        "id": "LvYeV9utu78t",
        "outputId": "0f57d0d4-7c7c-49f2-a34f-adddc12296be"
      },
      "outputs": [],
      "source": [
        "with open(omit_file_path, 'w') as f:\n",
        "    params = {\n",
        "        'omit': omit_str,\n",
        "        'format': 'json'\n",
        "    }\n",
        "    response = requests.get(MINDAT_API_URL+\"/geomaterials/\",\n",
        "                    params=params,\n",
        "                    headers=headers)\n",
        "\n",
        "    result_data = response.json()[\"results\"]\n",
        "    json_data = {\"results\": result_data}\n",
        "\n",
        "    # while True:\n",
        "    #     try:\n",
        "    #         next_url = response.json()[\"next\"]\n",
        "    #         response = requests.get(next_url, headers=headers)\n",
        "    #         json_data[\"results\"] += response.json()['results']\n",
        "\n",
        "    #     except requests.exceptions.MissingSchema as e:\n",
        "    #         # This error indicates the `next_url` is none\n",
        "    #         break\n",
        "\n",
        "    json.dump(json_data, f, indent=4)\n",
        "print(\"Successfully saved \" + str(len(json_data['results'])) + \" entries to \" + str(omit_file_path))"
      ]
    },
    {
      "attachments": {},
      "cell_type": "markdown",
      "metadata": {
        "id": "1lVThknWgudN"
      },
      "source": [
        "### Get the IMA-Approved Mineral Geomaterial Items"
      ]
    },
    {
      "cell_type": "code",
      "execution_count": null,
      "metadata": {
        "colab": {
          "base_uri": "https://localhost:8080/"
        },
        "id": "IxW1ZHh9hGKP",
        "outputId": "166a8b96-bd8a-4f24-e227-0e8925b03971"
      },
      "outputs": [],
      "source": [
        "MINDAT_API_URL = \"https://api.mindat.org\"\n",
        "headers = {'Authorization': 'Token '+ YOUR_API_KEY}\n",
        "\n",
        "ima_file_name = \"mindat_items_IMA.json\"\n",
        "ima_file_path = Path(WORKING_DIR, ima_file_name)\n",
        "ima_file_path"
      ]
    },
    {
      "cell_type": "code",
      "execution_count": null,
      "metadata": {
        "colab": {
          "base_uri": "https://localhost:8080/"
        },
        "id": "gvp61uTYipYu",
        "outputId": "0c8db9c8-68ed-4d69-f13b-22e9f23e787f"
      },
      "outputs": [],
      "source": [
        "with open(ima_file_path, 'w') as f:\n",
        "    params = {\n",
        "        'format': 'json'\n",
        "    }\n",
        "    response = requests.get(MINDAT_API_URL+\"/minerals_ima/\",\n",
        "                    params=params,\n",
        "                    headers=headers)\n",
        "\n",
        "    result_data = response.json()[\"results\"]\n",
        "    json_data = {\"results\": result_data}\n",
        "\n",
        "    while True:\n",
        "        try:\n",
        "            next_url = response.json()[\"next\"]\n",
        "            response = requests.get(next_url, headers=headers)\n",
        "            json_data[\"results\"] += response.json()['results']\n",
        "\n",
        "        except requests.exceptions.MissingSchema as e:\n",
        "            # This error indicates the `next_url` is none\n",
        "            break\n",
        "\n",
        "    json.dump(json_data, f, indent=4)\n",
        "print(\"Successfully saved \" + str(len(json_data['results'])) + \" entries to \" + str(ima_file_path))"
      ]
    },
    {
      "attachments": {},
      "cell_type": "markdown",
      "metadata": {
        "id": "4uq9gXJ7A4mU"
      },
      "source": [
        "### Get the Geomaterial Items with Filters"
      ]
    },
    {
      "cell_type": "code",
      "execution_count": null,
      "metadata": {
        "colab": {
          "base_uri": "https://localhost:8080/"
        },
        "id": "2pCcF7fPFXkk",
        "outputId": "0171f0a9-7c83-4118-c3eb-c7977f520dc9"
      },
      "outputs": [],
      "source": [
        "MINDAT_API_URL = \"https://api.mindat.org\"\n",
        "headers = {'Authorization': 'Token '+ YOUR_API_KEY}\n",
        "\n",
        "filter_file_name = \"mindat_items_filter.json\"\n",
        "filter_file_path = Path(WORKING_DIR, filter_file_name)\n",
        "filter_file_path"
      ]
    },
    {
      "cell_type": "code",
      "execution_count": null,
      "metadata": {
        "colab": {
          "base_uri": "https://localhost:8080/"
        },
        "id": "s5ip-VegFXkt",
        "outputId": "5ec2af11-d136-4a7c-e25b-fe4e2d28a440"
      },
      "outputs": [],
      "source": [
        "filter_dict = {\n",
        "          \"ima_status\": [\n",
        "                    \"APPROVED\"\n",
        "                ], # an alternative way to obtain the IMA-approved minerals\n",
        "          \"colour\": \"green\",\n",
        "          'format': 'json',\n",
        "          }\n",
        "\n",
        "with open(filter_file_path, 'w') as f:\n",
        "\n",
        "    response = requests.get(MINDAT_API_URL+\"/geomaterials/\",\n",
        "                    params=filter_dict,\n",
        "                    headers=headers)\n",
        "\n",
        "    result_data = response.json()[\"results\"]\n",
        "    json_data = {\"results\": result_data}\n",
        "\n",
        "    # while True:\n",
        "    #     try:\n",
        "    #         next_url = response.json()[\"next\"]\n",
        "    #         response = requests.get(next_url, headers=headers)\n",
        "    #         json_data[\"results\"] += response.json()['results']\n",
        "\n",
        "    #     except requests.exceptions.MissingSchema as e:\n",
        "    #         # This error indicates the `next_url` is none\n",
        "    #         break\n",
        "\n",
        "    json.dump(json_data, f, indent=4)\n",
        "print(\"Successfully saved \" + str(len(json_data[\"results\"])) + \" entries to \" + str(filter_file_path))"
      ]
    },
    {
      "attachments": {},
      "cell_type": "markdown",
      "metadata": {
        "id": "UEMu5YSJwdC2"
      },
      "source": [
        "### Get the Geomaterial Items with Fuzzy Search"
      ]
    },
    {
      "cell_type": "code",
      "execution_count": null,
      "metadata": {
        "colab": {
          "base_uri": "https://localhost:8080/"
        },
        "id": "RrIOSXhLwdC2",
        "outputId": "0876fe9a-fe5c-4099-be6a-bd7c936fcdf1"
      },
      "outputs": [],
      "source": [
        "MINDAT_API_URL = \"https://api.mindat.org\"\n",
        "headers = {'Authorization': 'Token '+ YOUR_API_KEY}\n",
        "\n",
        "file_name = \"mindat_items_search.json\"\n",
        "file_path = Path(WORKING_DIR, file_name)\n",
        "file_path"
      ]
    },
    {
      "cell_type": "code",
      "execution_count": null,
      "metadata": {
        "colab": {
          "base_uri": "https://localhost:8080/"
        },
        "id": "xmizhWlfU7jY",
        "outputId": "0198b9a4-f436-4ee7-e7a8-53a95ebd869b"
      },
      "outputs": [],
      "source": [
        "filter_dict = {'q': 'quartz', # input what you about to search same as the home page\n",
        "          'format': 'json',\n",
        "          }\n",
        "\n",
        "with open(file_path, 'w') as f:\n",
        "    params = filter_dict\n",
        "\n",
        "    response = requests.get(MINDAT_API_URL+\"/geomaterials_search/\",\n",
        "                    params=params,\n",
        "                    headers=headers)\n",
        "\n",
        "    result_data = response.json()\n",
        "    json_data = {\"results\": result_data}\n",
        "\n",
        "    json.dump(json_data, f, indent=4)\n",
        "print(\"Successfully saved \" + str(len(json_data[\"results\"])) + \" entries to \" + str(file_path))"
      ]
    },
    {
      "attachments": {},
      "cell_type": "markdown",
      "metadata": {
        "id": "uSPcK5JIOLvs"
      },
      "source": [
        "### Get Single Locality"
      ]
    },
    {
      "cell_type": "code",
      "execution_count": null,
      "metadata": {
        "colab": {
          "base_uri": "https://localhost:8080/"
        },
        "id": "yAEF_e12OLv4",
        "outputId": "f8c8738d-93c0-4e48-9cc5-10e0256da7e4"
      },
      "outputs": [],
      "source": [
        "MINDAT_API_URL = \"https://api.mindat.org\"\n",
        "headers = {'Authorization': 'Token '+ YOUR_API_KEY}\n",
        "\n",
        "sig_loc_file_name = \"mindat_loc_single.json\"\n",
        "sig_loc_file_path = Path(WORKING_DIR, sig_loc_file_name)\n",
        "sig_loc_file_path"
      ]
    },
    {
      "cell_type": "code",
      "execution_count": null,
      "metadata": {
        "colab": {
          "base_uri": "https://localhost:8080/"
        },
        "id": "fq4iMUnUOLv5",
        "outputId": "17b1813f-ab2a-4057-a005-d3fc97fe982a"
      },
      "outputs": [],
      "source": [
        "with open(sig_loc_file_path, 'w') as f:\n",
        "    # The Mindat locality page for Moscow, Idaho\n",
        "    # https://www.mindat.org/loc-58150.html\n",
        "    locality_id = '306797'\n",
        "    response = requests.get(MINDAT_API_URL + '/localities/' + locality_id,\n",
        "                    headers=headers)\n",
        "    result_data = response.json()\n",
        "    json_data = {\"results\": [result_data]}\n",
        "\n",
        "    json.dump(json_data, f, indent=4)\n",
        "print(\"Successfully saved the locality to \" + str(sig_loc_file_path))"
      ]
    },
    {
      "attachments": {},
      "cell_type": "markdown",
      "metadata": {
        "id": "hdUBUjuS28IF"
      },
      "source": [
        "### Get Locality List with multiple IDs"
      ]
    },
    {
      "cell_type": "code",
      "execution_count": null,
      "metadata": {
        "colab": {
          "base_uri": "https://localhost:8080/"
        },
        "id": "WFdlg_t921Yd",
        "outputId": "d0ccf98a-1202-4b36-be4c-48e63ac572ee"
      },
      "outputs": [],
      "source": [
        "MINDAT_API_URL = \"https://api.mindat.org\"\n",
        "headers = {'Authorization': 'Token '+ YOUR_API_KEY}\n",
        "\n",
        "loc_file_name = \"mindat_loc_list.json\"\n",
        "loc_file_path = Path(WORKING_DIR, loc_file_name)\n",
        "loc_file_path"
      ]
    },
    {
      "cell_type": "code",
      "execution_count": null,
      "metadata": {
        "colab": {
          "base_uri": "https://localhost:8080/"
        },
        "id": "BH4KXFhD4G6b",
        "outputId": "d53be60a-a238-47fe-d253-b29501d2a303"
      },
      "outputs": [],
      "source": [
        "with open(loc_file_path, 'w') as f:\n",
        "    params = {\n",
        "        # Mindat loc ids for Moscow and Los Angeles\n",
        "        'id__in': '58150,3493',\n",
        "        'format': 'json'\n",
        "    }\n",
        "\n",
        "    response = requests.get(MINDAT_API_URL + '/localities/',\n",
        "                    params=params,\n",
        "                    headers=headers)\n",
        "\n",
        "    result_data = response.json()[\"results\"]\n",
        "    json_data = {\"results\": result_data}\n",
        "\n",
        "    while True:\n",
        "        try:\n",
        "            next_url = response.json()[\"next\"]\n",
        "            response = requests.get(next_url, headers=headers)\n",
        "            json_data[\"results\"] += response.json()['results']\n",
        "\n",
        "        except requests.exceptions.MissingSchema as e:\n",
        "            # This error indicates the `next_url` is none\n",
        "            break\n",
        "\n",
        "    json.dump(json_data, f, indent=4)\n",
        "print(\"Successfully saved \" + str(len(json_data['results'])) + \" entries to \" + str(loc_file_path))"
      ]
    },
    {
      "attachments": {},
      "cell_type": "markdown",
      "metadata": {
        "id": "1hZW1eb0KL5f"
      },
      "source": [
        "# 3. Test Zone"
      ]
    },
    {
      "attachments": {},
      "cell_type": "markdown",
      "metadata": {
        "id": "bzPZb-V_kCfe"
      },
      "source": [
        "### Get All the Geomaterial Items\n"
      ]
    },
    {
      "attachments": {},
      "cell_type": "markdown",
      "metadata": {
        "id": "dPy7JQpYAbS1"
      },
      "source": [
        "❗Please note that this section of codes will retrieve hundreds of **MB** of data from the Mindat server.\n",
        "\n",
        "❗This operation may consume a significant time and API access quota."
      ]
    },
    {
      "cell_type": "code",
      "execution_count": null,
      "metadata": {
        "id": "JRt7_VwxkbPf"
      },
      "outputs": [],
      "source": [
        "MINDAT_API_URL = \"https://api.mindat.org\"\n",
        "headers = {'Authorization': 'Token '+ YOUR_API_KEY}\n",
        "\n",
        "all_file_name = \"mindat_items_all.json\"\n",
        "all_file_path = Path(WORKING_DIR, all_file_name)\n",
        "all_file_path"
      ]
    },
    {
      "cell_type": "code",
      "execution_count": null,
      "metadata": {
        "id": "VzuHQxA4kx4H"
      },
      "outputs": [],
      "source": [
        "with open(all_file_path, 'w') as f:\n",
        "    params = {\n",
        "        'format': 'json',\n",
        "    }\n",
        "    response = requests.get(MINDAT_API_URL+\"/geomaterials/\",\n",
        "                            params=params,\n",
        "                            headers=headers)\n",
        "    result_data = response.json()[\"results\"]\n",
        "    json_data = {\"results\": result_data}\n",
        "\n",
        "    while True:\n",
        "        try:\n",
        "            next_url = response.json()[\"next\"]\n",
        "            response = requests.get(next_url, headers=headers)\n",
        "            json_data[\"results\"] += response.json()['results']\n",
        "\n",
        "        except requests.exceptions.MissingSchema as e:\n",
        "            # This error indicates the `next_url` is none\n",
        "            break\n",
        "\n",
        "    json.dump(json_data, f, indent=4)\n",
        "print(\"Successfully saved \" + str(len(json_data['results'])) + \" entries to \" + str(all_file_path))"
      ]
    },
    {
      "attachments": {},
      "cell_type": "markdown",
      "metadata": {
        "id": "N1KNupx6DQ9T"
      },
      "source": [
        "### Get the Geomaterial Items with Filters"
      ]
    },
    {
      "cell_type": "code",
      "execution_count": null,
      "metadata": {
        "colab": {
          "base_uri": "https://localhost:8080/"
        },
        "id": "WIwAxXhWDQ9T",
        "outputId": "0171f0a9-7c83-4118-c3eb-c7977f520dc9"
      },
      "outputs": [],
      "source": [
        "MINDAT_API_URL = \"https://api.mindat.org\"\n",
        "headers = {'Authorization': 'Token '+ YOUR_API_KEY}\n",
        "\n",
        "filter_file_name = \"mindat_items_filter.json\"\n",
        "filter_file_path = Path(WORKING_DIR, filter_file_name)\n",
        "filter_file_path"
      ]
    },
    {
      "cell_type": "code",
      "execution_count": null,
      "metadata": {
        "colab": {
          "base_uri": "https://localhost:8080/"
        },
        "id": "zTV02q_vDQ9T",
        "outputId": "6a02341a-a0dc-4e61-8df4-b3332201f54d"
      },
      "outputs": [],
      "source": [
        "filter_dict = {\n",
        "          #\"longid\": \"1:1:13:6\",\n",
        "          \"colour\": \"green\",\n",
        "          'format': 'json',\n",
        "          }\n",
        "\n",
        "with open(filter_file_path, 'w') as f:\n",
        "\n",
        "    response = requests.get(MINDAT_API_URL+\"/geomaterials/\",\n",
        "                    params=filter_dict,\n",
        "                    headers=headers)\n",
        "\n",
        "    result_data = response.json()['results']\n",
        "    json_data = {\"results\": result_data}\n",
        "\n",
        "    # while True:\n",
        "    #     try:\n",
        "    #         next_url = response.json()[\"next\"]\n",
        "    #         response = requests.get(next_url, headers=headers)\n",
        "    #         json_data[\"results\"] += response.json()['results']\n",
        "\n",
        "    #     except requests.exceptions.MissingSchema as e:\n",
        "    #         # This error indicates the `next_url` is none\n",
        "    #         break\n",
        "\n",
        "    json.dump(json_data, f, indent=4)\n",
        "print(\"Successfully saved \" + str(len(json_data[\"results\"])) + \" entries to \" + str(filter_file_path))"
      ]
    },
    {
      "cell_type": "code",
      "execution_count": null,
      "metadata": {
        "id": "936-etUwDW-d"
      },
      "outputs": [],
      "source": []
    }
  ],
  "metadata": {
    "colab": {
      "collapsed_sections": [
        "bzPZb-V_kCfe"
      ],
      "provenance": []
    },
    "kernelspec": {
      "display_name": "Python 3",
      "name": "python3"
    },
    "language_info": {
      "name": "python"
    }
  },
  "nbformat": 4,
  "nbformat_minor": 0
}
