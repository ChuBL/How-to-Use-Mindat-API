{
  "cells": [
    {
      "attachments": {},
      "cell_type": "markdown",
      "metadata": {
        "id": "qrMhTOpOyjAP"
      },
      "source": [
        "<a target=\"_blank\" href=\"https://colab.research.google.com/github/ChuBL/How-to-Use-Mindat-API/blob/main/How_to_Use_Mindat_API.ipynb\">\n",
        "  <img src=\"https://colab.research.google.com/assets/colab-badge.svg\" alt=\"Open In Colab\"/>\n",
        "</a>"
      ]
    },
    {
      "attachments": {},
      "cell_type": "markdown",
      "metadata": {
        "id": "u65PipxXuNbO"
      },
      "source": [
        "# How to Use OpenMindat Data API to Query and Download Datasets\n"
      ]
    },
    {
      "attachments": {},
      "cell_type": "markdown",
      "metadata": {
        "id": "OOT8B2v7odok"
      },
      "source": [
        "## 0. Access Your Mindat API Token"
      ]
    },
    {
      "attachments": {},
      "cell_type": "markdown",
      "metadata": {
        "id": "59gsuIxcoiIU"
      },
      "source": [
        "[How to Get My Mindat API Key or Token?](https://www.mindat.org/a/how_to_get_my_mindat_api_key)"
      ]
    },
    {
      "attachments": {},
      "cell_type": "markdown",
      "metadata": {
        "id": "YmvOE3ClX207"
      },
      "source": [
        "## 1. Dependencies (Please run this section first)"
      ]
    },
    {
      "cell_type": "code",
      "execution_count": null,
      "metadata": {
        "colab": {
          "base_uri": "https://localhost:8080/"
        },
        "id": "HcpFlVR9Xvzj",
        "outputId": "f7c84c9e-91e6-4675-ee8d-f87bf4ba26a3"
      },
      "outputs": [],
      "source": [
        "from google.colab import drive\n",
        "drive.mount('/content/drive')"
      ]
    },
    {
      "attachments": {},
      "cell_type": "markdown",
      "metadata": {
        "id": "UublqFDuYxeU"
      },
      "source": [
        "This step will connect your Google Drive with this notebook, and you can check the 📁 file management system in the left column."
      ]
    },
    {
      "cell_type": "code",
      "execution_count": null,
      "metadata": {
        "id": "gpxJUYWHaPCw"
      },
      "outputs": [],
      "source": [
        "from pathlib import Path\n",
        "import os\n",
        "import sys\n",
        "import json\n",
        "import re\n",
        "import pprint\n",
        "import requests"
      ]
    },
    {
      "cell_type": "code",
      "execution_count": null,
      "metadata": {
        "id": "zyImDhp2aYNq"
      },
      "outputs": [],
      "source": [
        "# You can change this working path according to your preference\n",
        "# If the folder didn't show up in the left column, click the refresh button\n",
        "WORKING_DIR = \"/content/drive/MyDrive/MindatAPI_folder/\"\n",
        "Path(WORKING_DIR).mkdir(parents=True, exist_ok=True)"
      ]
    },
    {
      "attachments": {},
      "cell_type": "markdown",
      "metadata": {
        "id": "RhAUoA9pcIQv"
      },
      "source": [
        "You should **avoid** placing your API token explicitly in your code if you plan to share it.\n",
        "\n",
        "For example, you can drag a text file of your token to the working directory to upload it, then access it using the following code. Or you can input it manually."
      ]
    },
    {
      "cell_type": "code",
      "execution_count": null,
      "metadata": {
        "id": "QSoVg4g-eQw0"
      },
      "outputs": [],
      "source": [
        "YOUR_API_KEY = \"\""
      ]
    },
    {
      "cell_type": "code",
      "execution_count": null,
      "metadata": {
        "id": "nW9tqw7ScEs9"
      },
      "outputs": [],
      "source": [
        "%%script false --no-raise-error\n",
        "# comment out the first line to activate this code block\n",
        "api_key_file_dir = \"/content/drive/MyDrive/MindatAPI_folder/api_key.txt\"\n",
        "try:\n",
        "    with open(api_key_file_dir, 'r') as f:\n",
        "        YOUR_API_KEY = f.read()\n",
        "except FileNotFoundError:\n",
        "    print(\"API key file not found. Please create a text file containing your api key and place it in the correct directory.\")"
      ]
    },
    {
      "cell_type": "code",
      "execution_count": null,
      "metadata": {
        "id": "39HPkjIKaMBo"
      },
      "outputs": [],
      "source": [
        "%%script false --no-raise-error\n",
        "# comment out the first line to activate this code block\n",
        "YOUR_API_KEY = input()"
      ]
    },
    {
      "cell_type": "code",
      "execution_count": null,
      "metadata": {
        "id": "tYg14BcheNlO"
      },
      "outputs": [],
      "source": [
        "try:\n",
        "    assert 0 != len(YOUR_API_KEY)\n",
        "except AssertionError:\n",
        "    raise Exception(\"Please set a valid API token before the start!\")"
      ]
    },
    {
      "attachments": {},
      "cell_type": "markdown",
      "metadata": {
        "id": "wdufgKY9gq6H"
      },
      "source": [
        "## 2. Use Cases\n"
      ]
    },
    {
      "attachments": {},
      "cell_type": "markdown",
      "metadata": {
        "id": "UEMu5YSJwdC2"
      },
      "source": [
        "### Get the Geomaterial Items with Filters"
      ]
    },
    {
      "cell_type": "code",
      "execution_count": null,
      "metadata": {
        "id": "RrIOSXhLwdC2"
      },
      "outputs": [],
      "source": [
        "MINDAT_API_URL = \"https://api.mindat.org\"\n",
        "headers = {'Authorization': 'Token '+ YOUR_API_KEY}\n",
        "\n",
        "filter_file_name = \"mindat_items_filter.json\"\n",
        "filter_file_path = Path(WORKING_DIR, filter_file_name)\n",
        "filter_file_path"
      ]
    },
    {
      "cell_type": "code",
      "execution_count": null,
      "metadata": {
        "id": "xmizhWlfU7jY"
      },
      "outputs": [],
      "source": [
        "filter_dict = {'density__to': '3',\n",
        "          'crystal_system': 'Triclinic',\n",
        "          'color': 'red',\n",
        "          'ima': 1,          # show only minerals approved by ima\n",
        "          'format': 'json',\n",
        "          }\n",
        "\n",
        "with open(filter_file_path, 'w') as f:\n",
        "    params = filter_dict\n",
        "\n",
        "    response = requests.get(MINDAT_API_URL+\"/geomaterials/\",\n",
        "                    params=params,\n",
        "                    headers=headers)\n",
        "\n",
        "    result_data = response.json()[\"results\"]\n",
        "    json_data = {\"results\": result_data}\n",
        "\n",
        "    while True:\n",
        "        try:\n",
        "            next_url = response.json()[\"next\"]\n",
        "            response = requests.get(next_url, headers=headers)\n",
        "            json_data[\"results\"] += response.json()['results']\n",
        "\n",
        "        except requests.exceptions.MissingSchema as e:\n",
        "            # This error indicates the `next_url` is none\n",
        "            break\n",
        "\n",
        "    json.dump(json_data, f, indent=4)\n",
        "print(\"Successfully saved \" + str(len(json_data[\"results\"])) + \" entries to \" + str(filter_file_path))"
      ]
    },
    {
      "attachments": {},
      "cell_type": "markdown",
      "metadata": {
        "id": "1lVThknWgudN"
      },
      "source": [
        "### Get the IMA-Approved Mineral Geomaterial Items"
      ]
    },
    {
      "cell_type": "code",
      "execution_count": null,
      "metadata": {
        "id": "IxW1ZHh9hGKP"
      },
      "outputs": [],
      "source": [
        "MINDAT_API_URL = \"https://api.mindat.org\"\n",
        "headers = {'Authorization': 'Token '+ YOUR_API_KEY}\n",
        "\n",
        "ima_file_name = \"mindat_items_IMA.json\"\n",
        "ima_file_path = Path(WORKING_DIR, ima_file_name)\n",
        "ima_file_path"
      ]
    },
    {
      "cell_type": "code",
      "execution_count": null,
      "metadata": {
        "id": "gvp61uTYipYu"
      },
      "outputs": [],
      "source": [
        "with open(ima_file_path, 'w') as f:\n",
        "    params = {\n",
        "        'ima': 1,          # show only minerals approved by ima\n",
        "        'format': 'json'\n",
        "    }\n",
        "    response = requests.get(MINDAT_API_URL+\"/geomaterials/\",\n",
        "                    params=params,\n",
        "                    headers=headers)\n",
        "\n",
        "    result_data = response.json()[\"results\"]\n",
        "    json_data = {\"results\": result_data}\n",
        "\n",
        "    while True:\n",
        "        try:\n",
        "            next_url = response.json()[\"next\"]\n",
        "            response = requests.get(next_url, headers=headers)\n",
        "            json_data[\"results\"] += response.json()['results']\n",
        "\n",
        "        except requests.exceptions.MissingSchema as e:\n",
        "            # This error indicates the `next_url` is none\n",
        "            break\n",
        "\n",
        "    json.dump(json_data, f, indent=4)\n",
        "print(\"Successfully saved \" + str(len(json_data['results'])) + \" entries to \" + str(ima_file_path))"
      ]
    },
    {
      "attachments": {},
      "cell_type": "markdown",
      "metadata": {
        "id": "OQ0gnOdPnlZX"
      },
      "source": [
        "### Get the Geomaterial Items with Selected Fields\n"
      ]
    },
    {
      "attachments": {},
      "cell_type": "markdown",
      "metadata": {
        "id": "vgRLWpJooBhx"
      },
      "source": [
        "Examples for Mindat API fields: `id,name,updttime,mindat_formula,mindat_formula_note,ima_formula,ima_status,ima_notes,varietyof,synid,polytypeof,groupid,entrytype,entrytype_text,description_short,impurities,elements,sigelements,tlform,cim,occurrence,otheroccurrence,industrial,discovery_year,diapheny,cleavage,parting,tenacity,colour,csmetamict,opticalextinction,hmin,hardtype,hmax,vhnmin,vhnmax,vhnerror,vhng,vhns,luminescence,lustre,lustretype,aboutname,other,streak,csystem,cclass,spacegroup,a,b,c,alpha,beta,gamma,aerror,berror,cerror,alphaerror,betaerror,gammaerror,va3,z,dmeas,dmeas2,dcalc,dmeaserror,dcalcerror,cleavagetype,fracturetype,morphology,twinning,epitaxidescription,opticaltype,opticalsign,opticalalpha,opticalbeta,opticalgamma,opticalomega,opticalepsilon,opticalalpha2,opticalbeta2,opticalgamma2,opticalepsilon2,opticalomega2,opticaln,opticaln2,optical2vcalc,optical2vmeasured,optical2vcalc2,optical2vmeasured2,opticalalphaerror,opticalbetaerror,opticalgammaerror,opticalomegaerror,opticalepsilonerror,opticalnerror,optical2vcalcerror,optical2vmeasurederror,opticaldispersion,opticalpleochroism,opticalpleochorismdesc,opticalbirefringence,opticalcomments,opticalcolour,opticalinternal,opticaltropic,opticalanisotropism,opticalbireflectance,opticalr,uv,ir,magnetism,type_specimen_store,commenthard,cim,strunz10ed1,strunz10ed2,strunz10ed3,strunz10ed4,dana8ed1,dana8ed2,dana8ed3,dana8ed4,thermalbehaviour,commentluster,commentbreak,commentdense,commentcrystal,commentcolor,electrical,tranglide,nolocadd,weighting,specdispm,spacegroupset,approval_year,publication_year,ima_history,rock_parent,rock_parent2,rock_root,rock_bgs_code,meteoritical_code,key_elements,shortcode_ima,~all,*`\n",
        "\n",
        "[OpenMindat API Documentation](https://api.mindat.org/schema/redoc/#tag/items/operation/items_list)"
      ]
    },
    {
      "attachments": {},
      "cell_type": "markdown",
      "metadata": {
        "id": "9IRt8Llx9x3G"
      },
      "source": [
        "A comprehensive field explanations document can be found [here](https://github.com/smrgeoinfo/How-to-Use-Mindat-API/blob/main/geomaterialfields.csv)."
      ]
    },
    {
      "cell_type": "code",
      "execution_count": null,
      "metadata": {
        "id": "KUus01VVnrLn"
      },
      "outputs": [],
      "source": [
        "MINDAT_API_URL = \"https://api.mindat.org\"\n",
        "headers = {'Authorization': 'Token '+ YOUR_API_KEY}\n",
        "\n",
        "select_file_name = \"mindat_items_select.json\"\n",
        "select_file_path = Path(WORKING_DIR, select_file_name)\n",
        "select_file_path"
      ]
    },
    {
      "cell_type": "code",
      "execution_count": null,
      "metadata": {
        "id": "xpu636_dpIWs"
      },
      "outputs": [],
      "source": [
        "# set your selected fields here\n",
        "fields_str = 'id,name,mindat_formula'"
      ]
    },
    {
      "cell_type": "code",
      "execution_count": null,
      "metadata": {
        "id": "j7z0PF1WpVC1"
      },
      "outputs": [],
      "source": [
        "with open(select_file_path, 'w') as f:\n",
        "    params = {\n",
        "        'fields': fields_str, # put your selected fields here\n",
        "        'format': 'json'\n",
        "    }\n",
        "    response = requests.get(MINDAT_API_URL+\"/items/\",\n",
        "                    params=params,\n",
        "                    headers=headers)\n",
        "\n",
        "    result_data = response.json()[\"results\"]\n",
        "    json_data = {\"results\": result_data}\n",
        "\n",
        "    while True:\n",
        "        try:\n",
        "            next_url = response.json()[\"next\"]\n",
        "            response = requests.get(next_url, headers=headers)\n",
        "            json_data[\"results\"] += response.json()['results']\n",
        "\n",
        "        except requests.exceptions.MissingSchema as e:\n",
        "            # This error indicates the `next_url` is none\n",
        "            break\n",
        "\n",
        "    json.dump(json_data, f, indent=4)\n",
        "print(\"Successfully saved \" + str(len(json_data['results'])) + \" entries to \" + str(select_file_path))"
      ]
    },
    {
      "attachments": {},
      "cell_type": "markdown",
      "metadata": {
        "id": "jo-RRZDBt4JA"
      },
      "source": [
        "### Get the Geomaterial Items with Omitted Fields"
      ]
    },
    {
      "cell_type": "code",
      "execution_count": null,
      "metadata": {
        "id": "ZU5xY7IGupq6"
      },
      "outputs": [],
      "source": [
        "MINDAT_API_URL = \"https://api.mindat.org\"\n",
        "headers = {'Authorization': 'Token '+ YOUR_API_KEY}\n",
        "\n",
        "omit_file_name = \"mindat_items_omit.json\"\n",
        "omit_file_path = Path(WORKING_DIR, omit_file_name)\n",
        "omit_file_path"
      ]
    },
    {
      "cell_type": "code",
      "execution_count": null,
      "metadata": {
        "id": "D-7OCuOLuzeb"
      },
      "outputs": [],
      "source": [
        "omit_str = 'id,name,updttime'"
      ]
    },
    {
      "cell_type": "code",
      "execution_count": null,
      "metadata": {
        "id": "LvYeV9utu78t"
      },
      "outputs": [],
      "source": [
        "with open(omit_file_path, 'w') as f:\n",
        "    params = {\n",
        "        'omit': omit_str,\n",
        "        'format': 'json'\n",
        "    }\n",
        "    response = requests.get(MINDAT_API_URL+\"/items/\",\n",
        "                    params=params,\n",
        "                    headers=headers)\n",
        "\n",
        "    result_data = response.json()[\"results\"]\n",
        "    json_data = {\"results\": result_data}\n",
        "\n",
        "    while True:\n",
        "        try:\n",
        "            next_url = response.json()[\"next\"]\n",
        "            response = requests.get(next_url, headers=headers)\n",
        "            json_data[\"results\"] += response.json()['results']\n",
        "\n",
        "        except requests.exceptions.MissingSchema as e:\n",
        "            # This error indicates the `next_url` is none\n",
        "            break\n",
        "\n",
        "    json.dump(json_data, f, indent=4)\n",
        "print(\"Successfully saved \" + str(len(json_data['results'])) + \" entries to \" + str(omit_file_path))"
      ]
    },
    {
      "attachments": {},
      "cell_type": "markdown",
      "metadata": {
        "id": "bzPZb-V_kCfe"
      },
      "source": [
        "### Get All the Geomaterial Items\n"
      ]
    },
    {
      "attachments": {},
      "cell_type": "markdown",
      "metadata": {
        "id": "dPy7JQpYAbS1"
      },
      "source": [
        "❗Please note that this section of codes will retrieve hundreds of **MB** of data from the Mindat server.\n",
        "\n",
        "❗This operation may consume a significant time and API access quota."
      ]
    },
    {
      "cell_type": "code",
      "execution_count": null,
      "metadata": {
        "id": "JRt7_VwxkbPf"
      },
      "outputs": [],
      "source": [
        "MINDAT_API_URL = \"https://api.mindat.org\"\n",
        "headers = {'Authorization': 'Token '+ YOUR_API_KEY}\n",
        "\n",
        "all_file_name = \"mindat_items_all.json\"\n",
        "all_file_path = Path(WORKING_DIR, all_file_name)\n",
        "all_file_path"
      ]
    },
    {
      "cell_type": "code",
      "execution_count": null,
      "metadata": {
        "id": "VzuHQxA4kx4H"
      },
      "outputs": [],
      "source": [
        "with open(all_file_path, 'w') as f:\n",
        "    params = {\n",
        "        'format': 'json',\n",
        "    }\n",
        "    response = requests.get(MINDAT_API_URL+\"/items/\",\n",
        "                            params=params,\n",
        "                            headers=headers)\n",
        "    result_data = response.json()[\"results\"]\n",
        "    json_data = {\"results\": result_data}\n",
        "\n",
        "    while True:\n",
        "        try:\n",
        "            next_url = response.json()[\"next\"]\n",
        "            response = requests.get(next_url, headers=headers)\n",
        "            json_data[\"results\"] += response.json()['results']\n",
        "\n",
        "        except requests.exceptions.MissingSchema as e:\n",
        "            # This error indicates the `next_url` is none\n",
        "            break\n",
        "\n",
        "    json.dump(json_data, f, indent=4)\n",
        "print(\"Successfully saved \" + str(len(json_data['results'])) + \" entries to \" + str(all_file_path))"
      ]
    },
    {
      "attachments": {},
      "cell_type": "markdown",
      "metadata": {
        "id": "uSPcK5JIOLvs"
      },
      "source": [
        "### Get Single Locality"
      ]
    },
    {
      "cell_type": "code",
      "execution_count": null,
      "metadata": {
        "colab": {
          "base_uri": "https://localhost:8080/"
        },
        "id": "yAEF_e12OLv4",
        "outputId": "208a533b-ab4e-4f02-a638-4715c86202bf"
      },
      "outputs": [],
      "source": [
        "MINDAT_API_URL = \"https://api.mindat.org\"\n",
        "headers = {'Authorization': 'Token '+ YOUR_API_KEY}\n",
        "\n",
        "sig_loc_file_name = \"mindat_loc_single.json\"\n",
        "sig_loc_file_path = Path(WORKING_DIR, sig_loc_file_name)\n",
        "sig_loc_file_path"
      ]
    },
    {
      "cell_type": "code",
      "execution_count": null,
      "metadata": {
        "colab": {
          "base_uri": "https://localhost:8080/"
        },
        "id": "fq4iMUnUOLv5",
        "outputId": "53c53ec3-73f1-4a86-fe77-b2f980139e9f"
      },
      "outputs": [],
      "source": [
        "with open(sig_loc_file_path, 'w') as f:\n",
        "    # The Mindat locality page for Moscow, Idaho\n",
        "    # https://www.mindat.org/loc-58150.html\n",
        "    locality_id = '58150'\n",
        "    response = requests.get(MINDAT_API_URL + '/localities/' + locality_id,\n",
        "                    headers=headers)\n",
        "    result_data = response.json()\n",
        "    json_data = {\"results\": [result_data]}\n",
        "\n",
        "    json.dump(json_data, f, indent=4)\n",
        "print(\"Successfully saved the locality to \" + str(sig_loc_file_path))"
      ]
    },
    {
      "attachments": {},
      "cell_type": "markdown",
      "metadata": {
        "id": "hdUBUjuS28IF"
      },
      "source": [
        "### Get Locality List with multiple IDs"
      ]
    },
    {
      "cell_type": "code",
      "execution_count": null,
      "metadata": {
        "colab": {
          "base_uri": "https://localhost:8080/"
        },
        "id": "WFdlg_t921Yd",
        "outputId": "698a1cbc-1355-4e09-f08c-2d1230ee302b"
      },
      "outputs": [],
      "source": [
        "MINDAT_API_URL = \"https://api.mindat.org\"\n",
        "headers = {'Authorization': 'Token '+ YOUR_API_KEY}\n",
        "\n",
        "loc_file_name = \"mindat_loc_list.json\"\n",
        "loc_file_path = Path(WORKING_DIR, loc_file_name)\n",
        "loc_file_path"
      ]
    },
    {
      "cell_type": "code",
      "execution_count": null,
      "metadata": {
        "colab": {
          "base_uri": "https://localhost:8080/"
        },
        "id": "BH4KXFhD4G6b",
        "outputId": "dfcf5fb7-1930-4162-fd14-0ea08c86a72d"
      },
      "outputs": [],
      "source": [
        "with open(loc_file_path, 'w') as f:\n",
        "    params = {\n",
        "        # Mindat loc ids for Moscow and Los Angeles\n",
        "        'id__in': '58150,3493',\n",
        "        'format': 'json'\n",
        "    }\n",
        "\n",
        "    response = requests.get(MINDAT_API_URL + '/localities/',\n",
        "                    params=params,\n",
        "                    headers=headers)\n",
        "\n",
        "    result_data = response.json()[\"results\"]\n",
        "    json_data = {\"results\": result_data}\n",
        "\n",
        "    # while True:\n",
        "    #     try:\n",
        "    #         next_url = response.json()[\"next\"]\n",
        "    #         response = requests.get(next_url, headers=headers)\n",
        "    #         json_data[\"results\"] += response.json()['results']\n",
        "\n",
        "    #     except requests.exceptions.MissingSchema as e:\n",
        "    #         # This error indicates the `next_url` is none\n",
        "    #         break\n",
        "\n",
        "    json.dump(json_data, f, indent=4)\n",
        "print(\"Successfully saved \" + str(len(json_data['results'])) + \" entries to \" + str(loc_file_path))"
      ]
    }
  ],
  "metadata": {
    "colab": {
      "collapsed_sections": [
        "YmvOE3ClX207"
      ],
      "provenance": []
    },
    "kernelspec": {
      "display_name": "Python 3",
      "name": "python3"
    },
    "language_info": {
      "name": "python"
    }
  },
  "nbformat": 4,
  "nbformat_minor": 0
}
