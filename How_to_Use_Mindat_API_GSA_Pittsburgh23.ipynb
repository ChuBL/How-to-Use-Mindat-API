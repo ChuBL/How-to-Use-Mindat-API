{
  "cells": [
    {
      "cell_type": "markdown",
      "metadata": {
        "id": "qrMhTOpOyjAP"
      },
      "source": [
        "<a target=\"_blank\" href=\"https://colab.research.google.com/github/ChuBL/How-to-Use-Mindat-API/blob/main/How_to_Use_Mindat_API_ESIP_Vermont.ipynb\">\n",
        "  <img src=\"https://colab.research.google.com/assets/colab-badge.svg\" alt=\"Open In Colab\"/>\n",
        "</a>"
      ]
    },
    {
      "cell_type": "markdown",
      "metadata": {
        "id": "u65PipxXuNbO"
      },
      "source": [
        "# How to Use OpenMindat Data API to Query and Download Datasets\n"
      ]
    },
    {
      "cell_type": "markdown",
      "metadata": {
        "id": "OOT8B2v7odok"
      },
      "source": [
        "## 0. Access Your Mindat API Token"
      ]
    },
    {
      "cell_type": "markdown",
      "metadata": {
        "id": "59gsuIxcoiIU"
      },
      "source": [
        "[How to Get My Mindat API Key or Token?](https://www.mindat.org/a/how_to_get_my_mindat_api_key)"
      ]
    },
    {
      "cell_type": "markdown",
      "metadata": {
        "id": "YmvOE3ClX207"
      },
      "source": [
        "## 1. Dependencies (Please run this section first)"
      ]
    },
    {
      "cell_type": "code",
      "execution_count": null,
      "metadata": {
        "id": "gpxJUYWHaPCw"
      },
      "outputs": [],
      "source": [
        "from pathlib import Path\n",
        "import os\n",
        "import sys\n",
        "import json\n",
        "import re\n",
        "import pprint\n",
        "import requests"
      ]
    },
    {
      "cell_type": "code",
      "execution_count": null,
      "metadata": {
        "id": "zyImDhp2aYNq"
      },
      "outputs": [],
      "source": [
        "# You can change this working path according to your preference\n",
        "# If the folder didn't show up in the left column, click the refresh button\n",
        "WORKING_DIR = \"/content/MindatAPI_folder/\"\n",
        "Path(WORKING_DIR).mkdir(parents=True, exist_ok=True)"
      ]
    },
    {
      "cell_type": "markdown",
      "metadata": {
        "id": "RhAUoA9pcIQv"
      },
      "source": [
        "❗You should **avoid** placing your API token explicitly in your code if you plan to share it.\n",
        "\n",
        "For example, you can drag a text file of your token to the working directory to upload it, then access it using the following code. Or you can input it manually."
      ]
    },
    {
      "cell_type": "markdown",
      "metadata": {
        "id": "g8v7VV3BD-46"
      },
      "source": [
        "❗This notebook is exclusively made accessible to the **GSA Conferrence in Pittsburgh**. The provided API key will immediately get **invalid** after the meeting. You will need to input your own personal API Key to process the remaining demo.\n",
        "\n",
        "If you don't have a Mindat API key, please refer to [How to Get My Mindat API Key or Token?](https://www.mindat.org/a/how_to_get_my_mindat_api_key)\n",
        "\n",
        "The formal and up-to-date version for this notebook: [GitHub Repo](https://github.com/ChuBL/How-to-Use-Mindat-API)."
      ]
    },
    {
      "cell_type": "code",
      "execution_count": null,
      "metadata": {
        "id": "QSoVg4g-eQw0"
      },
      "outputs": [],
      "source": [
        "# This API key will get invaild after the ESIP meeting at Vermont\n",
        "\n",
        "YOUR_API_KEY = \"d1eb87399f0f3d6639b0897a6619bc05\""
      ]
    },
    {
      "cell_type": "code",
      "execution_count": null,
      "metadata": {
        "id": "nW9tqw7ScEs9"
      },
      "outputs": [],
      "source": [
        "%%script false --no-raise-error\n",
        "# comment out the first line to activate this code block\n",
        "api_key_file_dir = \"/content/drive/MyDrive/MindatAPI_folder/api_key.txt\"\n",
        "try:\n",
        "    with open(api_key_file_dir, 'r') as f:\n",
        "        YOUR_API_KEY = f.read()\n",
        "except FileNotFoundError:\n",
        "    print(\"API key file not found. Please create a text file containing your api key and place it in the correct directory.\")"
      ]
    },
    {
      "cell_type": "code",
      "execution_count": null,
      "metadata": {
        "id": "39HPkjIKaMBo"
      },
      "outputs": [],
      "source": [
        "%%script false --no-raise-error\n",
        "# comment out the first line to activate this code block\n",
        "YOUR_API_KEY = input()"
      ]
    },
    {
      "cell_type": "code",
      "execution_count": null,
      "metadata": {
        "id": "tYg14BcheNlO"
      },
      "outputs": [],
      "source": [
        "try:\n",
        "    assert 0 != len(YOUR_API_KEY)\n",
        "except AssertionError:\n",
        "    raise Exception(\"Please set a valid API token before the start!\")"
      ]
    },
    {
      "cell_type": "markdown",
      "metadata": {
        "id": "wdufgKY9gq6H"
      },
      "source": [
        "## 2. Use Cases\n"
      ]
    },
    {
      "cell_type": "markdown",
      "metadata": {
        "id": "OQ0gnOdPnlZX"
      },
      "source": [
        "### Get the Geomaterial Items with Selected Fields\n"
      ]
    },
    {
      "cell_type": "markdown",
      "metadata": {
        "id": "vgRLWpJooBhx"
      },
      "source": [
        "Examples for Mindat API fields: `fields=id,longid,guid,name,updttime,mindat_formula,mindat_formula_note,ima_formula,ima_status,...`\n",
        "\n",
        "For entire fields list, see: [OpenMindat API Documentation](https://api.mindat.org/schema/redoc/#tag/items/operation/items_list)"
      ]
    },
    {
      "cell_type": "markdown",
      "metadata": {
        "id": "9IRt8Llx9x3G"
      },
      "source": [
        "A comprehensive field explanations document can be found [here](https://github.com/smrgeoinfo/How-to-Use-Mindat-API/blob/main/geomaterialfields.csv)."
      ]
    },
    {
      "cell_type": "code",
      "execution_count": null,
      "metadata": {
        "colab": {
          "base_uri": "https://localhost:8080/"
        },
        "id": "KUus01VVnrLn",
        "outputId": "2d395fd7-2945-4d49-bf8e-51db0b31c169"
      },
      "outputs": [],
      "source": [
        "MINDAT_API_URL = \"https://api.mindat.org\"\n",
        "headers = {'Authorization': 'Token '+ YOUR_API_KEY}\n",
        "\n",
        "select_file_name = \"mindat_items_select.json\"\n",
        "select_file_path = Path(WORKING_DIR, select_file_name)\n",
        "select_file_path"
      ]
    },
    {
      "cell_type": "code",
      "execution_count": null,
      "metadata": {
        "colab": {
          "base_uri": "https://localhost:8080/"
        },
        "id": "j7z0PF1WpVC1",
        "outputId": "b685712a-a4f9-4067-9f36-2345b80d6518"
      },
      "outputs": [],
      "source": [
        "# set your selected fields here\n",
        "fields_str = 'id,name,mindat_formula'\n",
        "\n",
        "with open(select_file_path, 'w') as f:\n",
        "    params = {\n",
        "        'fields': fields_str, # put your selected fields here\n",
        "        'format': 'json'\n",
        "    }\n",
        "    response = requests.get(MINDAT_API_URL+\"/geomaterials/\",\n",
        "                    params=params,\n",
        "                    headers=headers)\n",
        "\n",
        "    result_data = response.json()[\"results\"]\n",
        "    json_data = {\"results\": result_data}\n",
        "\n",
        "    # Uncomment the following code to obtain more than ten results\n",
        "    # while True:\n",
        "    #     try:\n",
        "    #         next_url = response.json()[\"next\"]\n",
        "    #         response = requests.get(next_url, headers=headers)\n",
        "    #         json_data[\"results\"] += response.json()['results']\n",
        "\n",
        "    #     except requests.exceptions.MissingSchema as e:\n",
        "    #         # This error indicates the `next_url` is none\n",
        "    #         break\n",
        "\n",
        "    json.dump(json_data, f, indent=4)\n",
        "print(\"Successfully saved \" + str(len(json_data['results'])) + \" entries to \" + str(select_file_path))\n"
      ]
    },
    {
      "cell_type": "markdown",
      "metadata": {
        "id": "jo-RRZDBt4JA"
      },
      "source": [
        "### Get the Geomaterial Items with Omitted Fields"
      ]
    },
    {
      "cell_type": "code",
      "execution_count": null,
      "metadata": {
        "colab": {
          "base_uri": "https://localhost:8080/"
        },
        "id": "ZU5xY7IGupq6",
        "outputId": "365022ef-3f1b-4fbf-f0f0-84ad01e26d0c"
      },
      "outputs": [],
      "source": [
        "MINDAT_API_URL = \"https://api.mindat.org\"\n",
        "headers = {'Authorization': 'Token '+ YOUR_API_KEY}\n",
        "\n",
        "omit_file_name = \"mindat_items_omit.json\"\n",
        "omit_file_path = Path(WORKING_DIR, omit_file_name)\n",
        "omit_file_path"
      ]
    },
    {
      "cell_type": "code",
      "execution_count": null,
      "metadata": {
        "colab": {
          "base_uri": "https://localhost:8080/"
        },
        "id": "LvYeV9utu78t",
        "outputId": "b39409f0-6996-4ae1-f710-ba2b241b0e1f"
      },
      "outputs": [],
      "source": [
        "omit_str = 'id,name,updttime'\n",
        "\n",
        "\n",
        "with open(omit_file_path, 'w') as f:\n",
        "    params = {\n",
        "        'omit': omit_str,\n",
        "        'format': 'json'\n",
        "    }\n",
        "    response = requests.get(MINDAT_API_URL+\"/geomaterials/\",\n",
        "                    params=params,\n",
        "                    headers=headers)\n",
        "\n",
        "    result_data = response.json()[\"results\"]\n",
        "    json_data = {\"results\": result_data}\n",
        "\n",
        "    # Uncomment the following code to obtain more than ten results\n",
        "    # while True:\n",
        "    #     try:\n",
        "    #         next_url = response.json()[\"next\"]\n",
        "    #         response = requests.get(next_url, headers=headers)\n",
        "    #         json_data[\"results\"] += response.json()['results']\n",
        "\n",
        "    #     except requests.exceptions.MissingSchema as e:\n",
        "    #         # This error indicates the `next_url` is none\n",
        "    #         break\n",
        "\n",
        "    json.dump(json_data, f, indent=4)\n",
        "print(\"Successfully saved \" + str(len(json_data['results'])) + \" entries to \" + str(omit_file_path))"
      ]
    },
    {
      "cell_type": "markdown",
      "metadata": {
        "id": "1lVThknWgudN"
      },
      "source": [
        "### Get the IMA-Approved Mineral Geomaterial Items"
      ]
    },
    {
      "cell_type": "code",
      "execution_count": null,
      "metadata": {
        "colab": {
          "base_uri": "https://localhost:8080/"
        },
        "id": "IxW1ZHh9hGKP",
        "outputId": "1abe2cd3-f4b0-4fff-b091-9b064f9bd53b"
      },
      "outputs": [],
      "source": [
        "MINDAT_API_URL = \"https://api.mindat.org\"\n",
        "headers = {'Authorization': 'Token '+ YOUR_API_KEY}\n",
        "\n",
        "ima_file_name = \"mindat_items_IMA.json\"\n",
        "ima_file_path = Path(WORKING_DIR, ima_file_name)\n",
        "ima_file_path"
      ]
    },
    {
      "cell_type": "markdown",
      "metadata": {
        "id": "aliXJVnXHjWr"
      },
      "source": [
        "This query will obtain thousands of mineral species and may take a couple of minutes(4min ~)."
      ]
    },
    {
      "cell_type": "code",
      "execution_count": null,
      "metadata": {
        "colab": {
          "base_uri": "https://localhost:8080/"
        },
        "id": "gvp61uTYipYu",
        "outputId": "c4fb7164-003d-4093-f603-369ae97719b0"
      },
      "outputs": [],
      "source": [
        "with open(ima_file_path, 'w') as f:\n",
        "    params = {\n",
        "        \"page_size\": 1500,\n",
        "        'format': 'json'\n",
        "    }\n",
        "    response = requests.get(MINDAT_API_URL+\"/minerals_ima/\",\n",
        "                    params=params,\n",
        "                    headers=headers)\n",
        "\n",
        "    result_data = response.json()[\"results\"]\n",
        "    json_data = {\"results\": result_data}\n",
        "\n",
        "    while True:\n",
        "        try:\n",
        "            next_url = response.json()[\"next\"]\n",
        "            response = requests.get(next_url, headers=headers)\n",
        "            json_data[\"results\"] += response.json()['results']\n",
        "\n",
        "        except requests.exceptions.MissingSchema as e:\n",
        "            # This error indicates the `next_url` is none\n",
        "            break\n",
        "\n",
        "    json.dump(json_data, f, indent=4)\n",
        "print(\"Successfully saved \" + str(len(json_data['results'])) + \" entries to \" + str(ima_file_path))"
      ]
    },
    {
      "cell_type": "markdown",
      "metadata": {
        "id": "4uq9gXJ7A4mU"
      },
      "source": [
        "### Get the Geomaterial Items with Filters"
      ]
    },
    {
      "cell_type": "code",
      "execution_count": null,
      "metadata": {
        "colab": {
          "base_uri": "https://localhost:8080/"
        },
        "id": "2pCcF7fPFXkk",
        "outputId": "470499df-d790-4f80-f42f-7cdf6778c58e"
      },
      "outputs": [],
      "source": [
        "MINDAT_API_URL = \"https://api.mindat.org\"\n",
        "headers = {'Authorization': 'Token '+ YOUR_API_KEY}\n",
        "\n",
        "filter_file_name = \"mindat_items_filter.json\"\n",
        "filter_file_path = Path(WORKING_DIR, filter_file_name)\n",
        "filter_file_path"
      ]
    },
    {
      "cell_type": "markdown",
      "metadata": {
        "id": "vLn5hXkQTwQS"
      },
      "source": [
        "This query will obtain full-sized IMA mineral information from Mindat and may take a couple of minutes(6min ~)."
      ]
    },
    {
      "cell_type": "code",
      "execution_count": null,
      "metadata": {
        "colab": {
          "base_uri": "https://localhost:8080/"
        },
        "id": "s5ip-VegFXkt",
        "outputId": "eb717c1b-a29a-47e5-8f42-b33d7e5bf4a4"
      },
      "outputs": [],
      "source": [
        "filter_dict = {\n",
        "          \"ima_status\": [\n",
        "                    \"APPROVED\"\n",
        "                ], # an alternative way to obtain the IMA-approved minerals\n",
        "          #\"id_in\": '1,2',\n",
        "          #\"colour\": \"green\",\n",
        "          \"page_size\": 1500,\n",
        "          'format': 'json',\n",
        "          }\n",
        "\n",
        "with open(filter_file_path, 'w') as f:\n",
        "\n",
        "    response = requests.get(MINDAT_API_URL+\"/geomaterials/\",\n",
        "                    params=filter_dict,\n",
        "                    headers=headers)\n",
        "\n",
        "    result_data = response.json()[\"results\"]\n",
        "    json_data = {\"results\": result_data}\n",
        "\n",
        "    while True:\n",
        "        try:\n",
        "            next_url = response.json()[\"next\"]\n",
        "            response = requests.get(next_url, headers=headers)\n",
        "            json_data[\"results\"] += response.json()['results']\n",
        "\n",
        "        except requests.exceptions.MissingSchema as e:\n",
        "            # This error indicates the `next_url` is none\n",
        "            break\n",
        "\n",
        "    json.dump(json_data, f, indent=4)\n",
        "print(\"Successfully saved \" + str(len(json_data[\"results\"])) + \" entries to \" + str(filter_file_path))"
      ]
    },
    {
      "cell_type": "markdown",
      "metadata": {
        "id": "UEMu5YSJwdC2"
      },
      "source": [
        "### Get the Geomaterial Items with Fuzzy Search"
      ]
    },
    {
      "cell_type": "code",
      "execution_count": null,
      "metadata": {
        "colab": {
          "base_uri": "https://localhost:8080/"
        },
        "id": "RrIOSXhLwdC2",
        "outputId": "2e9c4276-087d-4b6a-d417-38ffcb03b3e9"
      },
      "outputs": [],
      "source": [
        "MINDAT_API_URL = \"https://api.mindat.org\"\n",
        "headers = {'Authorization': 'Token '+ YOUR_API_KEY}\n",
        "\n",
        "file_name = \"mindat_items_search.json\"\n",
        "file_path = Path(WORKING_DIR, file_name)\n",
        "file_path"
      ]
    },
    {
      "cell_type": "code",
      "execution_count": null,
      "metadata": {
        "colab": {
          "base_uri": "https://localhost:8080/"
        },
        "id": "xmizhWlfU7jY",
        "outputId": "564e8941-3007-4b09-ee45-07d539923bb8"
      },
      "outputs": [],
      "source": [
        "filter_dict = {'q': 'quartz and ruby', # input what you about to search same as the home page\n",
        "          'format': 'json',\n",
        "          }\n",
        "\n",
        "with open(file_path, 'w') as f:\n",
        "    params = filter_dict\n",
        "\n",
        "    response = requests.get(MINDAT_API_URL+\"/geomaterials_search/\",\n",
        "                    params=params,\n",
        "                    headers=headers)\n",
        "\n",
        "    result_data = response.json()\n",
        "    json_data = {\"results\": result_data}\n",
        "\n",
        "    json.dump(json_data, f, indent=4)\n",
        "print(\"Successfully saved \" + str(len(json_data[\"results\"])) + \" entries to \" + str(file_path))"
      ]
    },
    {
      "cell_type": "markdown",
      "metadata": {
        "id": "uSPcK5JIOLvs"
      },
      "source": [
        "### Get Single Locality"
      ]
    },
    {
      "cell_type": "code",
      "execution_count": null,
      "metadata": {
        "colab": {
          "base_uri": "https://localhost:8080/"
        },
        "id": "yAEF_e12OLv4",
        "outputId": "3698a816-62dd-4b09-9e63-8f55f08d895d"
      },
      "outputs": [],
      "source": [
        "MINDAT_API_URL = \"https://api.mindat.org\"\n",
        "headers = {'Authorization': 'Token '+ YOUR_API_KEY}\n",
        "\n",
        "sig_loc_file_name = \"mindat_loc_single.json\"\n",
        "sig_loc_file_path = Path(WORKING_DIR, sig_loc_file_name)\n",
        "sig_loc_file_path"
      ]
    },
    {
      "cell_type": "code",
      "execution_count": null,
      "metadata": {
        "colab": {
          "base_uri": "https://localhost:8080/"
        },
        "id": "fq4iMUnUOLv5",
        "outputId": "7b1d6437-412b-42e6-d11d-f5cc202ec280"
      },
      "outputs": [],
      "source": [
        "with open(sig_loc_file_path, 'w') as f:\n",
        "    # The Mindat locality page for Moscow, Idaho\n",
        "    # https://www.mindat.org/loc-58150.html\n",
        "    locality_id = '306797'\n",
        "    response = requests.get(MINDAT_API_URL + '/localities/' + locality_id,\n",
        "                    headers=headers)\n",
        "    result_data = response.json()\n",
        "    json_data = {\"results\": [result_data]}\n",
        "\n",
        "    json.dump(json_data, f, indent=4)\n",
        "print(\"Successfully saved the locality to \" + str(sig_loc_file_path))"
      ]
    },
    {
      "cell_type": "markdown",
      "metadata": {
        "id": "hdUBUjuS28IF"
      },
      "source": [
        "### Get Locality List with multiple IDs"
      ]
    },
    {
      "cell_type": "code",
      "execution_count": null,
      "metadata": {
        "colab": {
          "base_uri": "https://localhost:8080/"
        },
        "id": "WFdlg_t921Yd",
        "outputId": "3230dc88-5c63-40fa-866b-899d29a4ad5a"
      },
      "outputs": [],
      "source": [
        "MINDAT_API_URL = \"https://api.mindat.org\"\n",
        "headers = {'Authorization': 'Token '+ YOUR_API_KEY}\n",
        "\n",
        "loc_file_name = \"mindat_loc_list.json\"\n",
        "loc_file_path = Path(WORKING_DIR, loc_file_name)\n",
        "loc_file_path"
      ]
    },
    {
      "cell_type": "code",
      "execution_count": null,
      "metadata": {
        "colab": {
          "base_uri": "https://localhost:8080/"
        },
        "id": "BH4KXFhD4G6b",
        "outputId": "e872a698-cd5b-4ca4-bbc5-462c7921a6db"
      },
      "outputs": [],
      "source": [
        "with open(loc_file_path, 'w') as f:\n",
        "    params = {\n",
        "        # Mindat loc ids for Moscow and Los Angeles\n",
        "        'id__in': '58150,3493',\n",
        "        'format': 'json'\n",
        "    }\n",
        "\n",
        "    response = requests.get(MINDAT_API_URL + '/localities/',\n",
        "                    params=params,\n",
        "                    headers=headers)\n",
        "\n",
        "    result_data = response.json()[\"results\"]\n",
        "    json_data = {\"results\": result_data}\n",
        "\n",
        "    while True:\n",
        "        try:\n",
        "            next_url = response.json()[\"next\"]\n",
        "            response = requests.get(next_url, headers=headers)\n",
        "            json_data[\"results\"] += response.json()['results']\n",
        "\n",
        "        except requests.exceptions.MissingSchema as e:\n",
        "            # This error indicates the `next_url` is none\n",
        "            break\n",
        "\n",
        "    json.dump(json_data, f, indent=4)\n",
        "print(\"Successfully saved \" + str(len(json_data['results'])) + \" entries to \" + str(loc_file_path))"
      ]
    },
    {
      "cell_type": "markdown",
      "metadata": {
        "id": "bzPZb-V_kCfe"
      },
      "source": [
        "### Get All the Geomaterial Items\n"
      ]
    },
    {
      "cell_type": "markdown",
      "metadata": {
        "id": "dPy7JQpYAbS1"
      },
      "source": [
        "❗Please note that this section of codes will retrieve hundreds of **MB** of data from the Mindat server.\n",
        "\n",
        "❗This operation may consume a significant time and API access quota."
      ]
    },
    {
      "cell_type": "code",
      "execution_count": null,
      "metadata": {
        "id": "JRt7_VwxkbPf"
      },
      "outputs": [],
      "source": [
        "MINDAT_API_URL = \"https://api.mindat.org\"\n",
        "headers = {'Authorization': 'Token '+ YOUR_API_KEY}\n",
        "\n",
        "all_file_name = \"mindat_items_all.json\"\n",
        "all_file_path = Path(WORKING_DIR, all_file_name)\n",
        "all_file_path"
      ]
    },
    {
      "cell_type": "code",
      "execution_count": null,
      "metadata": {
        "id": "VzuHQxA4kx4H"
      },
      "outputs": [],
      "source": [
        "with open(all_file_path, 'w') as f:\n",
        "    params = {\n",
        "        'format': 'json',\n",
        "    }\n",
        "    response = requests.get(MINDAT_API_URL+\"/geomaterials/\",\n",
        "                            params=params,\n",
        "                            headers=headers)\n",
        "    result_data = response.json()[\"results\"]\n",
        "    json_data = {\"results\": result_data}\n",
        "\n",
        "    while True:\n",
        "        try:\n",
        "            next_url = response.json()[\"next\"]\n",
        "            response = requests.get(next_url, headers=headers)\n",
        "            json_data[\"results\"] += response.json()['results']\n",
        "\n",
        "        except requests.exceptions.MissingSchema as e:\n",
        "            # This error indicates the `next_url` is none\n",
        "            break\n",
        "\n",
        "    json.dump(json_data, f, indent=4)\n",
        "print(\"Successfully saved \" + str(len(json_data['results'])) + \" entries to \" + str(all_file_path))"
      ]
    },
    {
      "cell_type": "markdown",
      "metadata": {
        "id": "N1KNupx6DQ9T"
      },
      "source": [
        "### Get the Geomaterial Items with Filters"
      ]
    },
    {
      "cell_type": "code",
      "execution_count": null,
      "metadata": {
        "colab": {
          "base_uri": "https://localhost:8080/"
        },
        "id": "WIwAxXhWDQ9T",
        "outputId": "0171f0a9-7c83-4118-c3eb-c7977f520dc9"
      },
      "outputs": [],
      "source": [
        "MINDAT_API_URL = \"https://api.mindat.org\"\n",
        "headers = {'Authorization': 'Token '+ YOUR_API_KEY}\n",
        "\n",
        "filter_file_name = \"mindat_items_filter.json\"\n",
        "filter_file_path = Path(WORKING_DIR, filter_file_name)\n",
        "filter_file_path"
      ]
    },
    {
      "cell_type": "code",
      "execution_count": null,
      "metadata": {
        "colab": {
          "base_uri": "https://localhost:8080/"
        },
        "id": "zTV02q_vDQ9T",
        "outputId": "fbd55900-378e-4ea2-a890-4c5cd00e4014"
      },
      "outputs": [],
      "source": [
        "filter_dict = {\n",
        "          #\"longid\": \"1:1:13:6\",\n",
        "          #\"colour\": \"green\",\n",
        "          \"guid\": \"c339183f-cf96-4ccc-96c9-6eeb7a0c81d0\",\n",
        "          'format': 'json',\n",
        "          }\n",
        "\n",
        "with open(filter_file_path, 'w') as f:\n",
        "\n",
        "    response = requests.get(MINDAT_API_URL+\"/geomaterials/\",\n",
        "                    params=filter_dict,\n",
        "                    headers=headers)\n",
        "\n",
        "    result_data = response.json()['results']\n",
        "    json_data = {\"results\": result_data}\n",
        "\n",
        "    # Uncomment the following code to obtain more than ten results\n",
        "    # while True:\n",
        "    #     try:\n",
        "    #         next_url = response.json()[\"next\"]\n",
        "    #         response = requests.get(next_url, headers=headers)\n",
        "    #         json_data[\"results\"] += response.json()['results']\n",
        "\n",
        "    #     except requests.exceptions.MissingSchema as e:\n",
        "    #         # This error indicates the `next_url` is none\n",
        "    #         break\n",
        "\n",
        "    json.dump(json_data, f, indent=4)\n",
        "print(\"Successfully saved \" + str(len(json_data[\"results\"])) + \" entries to \" + str(filter_file_path))"
      ]
    },
    {
      "cell_type": "code",
      "execution_count": null,
      "metadata": {
        "id": "936-etUwDW-d"
      },
      "outputs": [],
      "source": []
    }
  ],
  "metadata": {
    "colab": {
      "collapsed_sections": [
        "YmvOE3ClX207",
        "1hZW1eb0KL5f"
      ],
      "provenance": []
    },
    "kernelspec": {
      "display_name": "Python 3",
      "name": "python3"
    },
    "language_info": {
      "name": "python"
    }
  },
  "nbformat": 4,
  "nbformat_minor": 0
}
